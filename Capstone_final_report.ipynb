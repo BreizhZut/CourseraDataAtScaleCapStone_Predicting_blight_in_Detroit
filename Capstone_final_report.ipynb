{
 "cells": [
  {
   "cell_type": "markdown",
   "metadata": {},
   "source": [
    "# Data At Scale: Capstone Project -- Final report\n",
    "## Predicting blight in the city of Detroit, MI\n",
    "\n",
    "## 1 Executive Summary\n",
    "\n",
    "This project is part of the [Coursera Data Science at Scale Specialization](https://www.coursera.org/specializations/data-science) proposed by University of Washington and taught by Bill Howe. \n",
    "The objective of this assignment is to analyse various data source collected by the city of Detroit in order to build a model that could predict whether a building is likely to be blighted. The data was provided in  [datasci-capstone/get-the-data](https://www.coursera.org/learn/datasci-capstone/supplement/D44tm/get-the-data). \n",
    "Alternatively The data is available on the [Data At Scale Github repository: Capstone](https://github.com/uwescience/datasci_course_materials/tree/master/capstone/blight).\n",
    "\n",
    "We use the processed files we generated and described in a preceeding notebook [Github repository: Preprocessing](https://github.com/BreizhZut/CourseraDataAtScaleCapStone_Predicting_blight_in_Detroit/blob/master/Capstone_preprocessing.ipynb). The current steps is to add features to our test and train data set for which we have labelled building locations as demolished and not demolished.\n",
    "\n",
    "Feature creation consists on aggregating local blight violations, 311 complaints and cirmes to the building. In the case of bight violations we considered the total amounts associated to payment status (not applied, not paid, partially paid and paid in full). We aggregate these feature into 30 m grid cell (100 feet), and further aggregate around each set of coordinates corresponding to buildings in our train and test set. For the blight-violation features we use 1 grid cell in each direction, for the other two set we use 15 grid cells (475 m or 1500 feet). \n",
    "\n",
    "We train multiple models using maching learning techniques, using with 5 fold cros-validation for hyperparameter tuning. \n",
    "With simple decision trees we find:\n",
    "\n",
    "* Blight violation are the most relevant features, since a decision tree based on the number of 311 calls and crimes perform with a low accuracy of 58% on the train set and 54% on the test set. \n",
    "* By training decision trees on the blight violations features, using blight violation amounts instead of number of violations leads to better results with training accuracy increasing from 61.6% to 62.9%. \n",
    "* This pattern is confirmed by adding the number of 311 calls and crimes to these models, we observe train accuracy rising form 63.9% to 64.5% and test accuracy from 62.7% to 63.2%. \n",
    "\n",
    "Moving to boosted models, we fisrt try a simple majority vote scheme models on 3 of the decision trees performed earlier on differents features. \n",
    "\n",
    "* **Majority vote**: we first combine the first 3 models with a majority vote scheme and obtain an accuracy of 63.5% in both train and test set \n",
    "* **Random Forests**: we use a random forest on all features and obtain a train accuracy of 64.5% and a test accuracy of 64%.\n",
    "\n",
    "Future improvements would require to relate with greater accuracy the demolition and blight dateset, ideally with some parcel id. On top of that, data augmentation would help improving performence. It may be more relevent to add 3 to 5 time more negative examples to build models on a more realistic sample. Finally additionnal features should help greatly combined with pooling methods, for exemple counting crimes or 311 complains by categories. "
   ]
  },
  {
   "cell_type": "markdown",
   "metadata": {},
   "source": [
    "## 2 Data\n",
    "\n",
    "### 2.1 Source\n",
    "\n",
    "The original data consists on:\n",
    "\n",
    "* [detroit-blight-violations.csv](https://d3c33hcgiwev3.cloudfront.net/_97bd1c1e5df9537bb13398c9898deed7_detroit-blight-violations.csv?Expires=1525305600&Signature=eFD51fReW6lMTqFcCeDbQ1kgqi8sYAwZP7vMgVhsOOlv2QDrs61mX1tIBwdaqjaCVezWE30qjVPBzimiEafX2itPJiEPovHCzlOWMvnPe8x5RIeS-SbU0yPbG6~AHF7Cb0XITaoKlVmnMIAtiLstPqOOYfdhjUILu5~1dRNu8SE_&Key-Pair-Id=APKAJLTNE6QMUY6HBC5A): contains a list of blight violations from which we constitute a list of buidlings\n",
    "* [detroit-demolition-permits.tsv](https://d3c33hcgiwev3.cloudfront.net/_dcebfb2135a2bf5a6392493bd61aba22_detroit-demolition-permits.tsv?Expires=1525305600&Signature=f1GJGdUQshH1-g6GhDS-yUETWwkRis45gX9L85AGoXEuDHSzEhfdXWdo~tEbD~XHSXeRMNrgogVy-EYmO8t~7nfTnYt96LAcNxe73BTgvGdBDO~LdvA222Z9zs0sRxZAifSPbXnsW9jbxlDaqdnZNvc~zOkWxCN9aYQ2sBFujYQ_&Key-Pair-Id=APKAJLTNE6QMUY6HBC5A): contains a list of buildings for which demolition permits have been issued. We use that file to define the labels of our building, e.g. whether a building from the blight-violation dataset is blighted or not.\n",
    "* [detroit-311.csv](https://d3c33hcgiwev3.cloudfront.net/_dcebfb2135a2bf5a6392493bd61aba22_detroit-311.csv?Expires=1525305600&Signature=al11Hk1qn7CACblYpryhkWbcoHm6dXQkRw~Mu7y6ONBEDy0rdQIjLHvwN8IqOsV6OFNOudDrinXBEz-m5Q9A2GZrvR0~bbnuZbsFd7y7eQTv~o-NazxOfLPwRUwViGCxSxcQhwBTiV0VjySP4fgExZwFX2xVwQqInjrKQYHs8iM_&Key-Pair-Id=APKAJLTNE6QMUY6HBC5A): contains a list of 311 complains\n",
    "* [detroit-crime.csv](https://d3c33hcgiwev3.cloudfront.net/_dcebfb2135a2bf5a6392493bd61aba22_detroit-crime.csv?Expires=1525305600&Signature=N0vg~4Jgqn6b-w-UEAQ3q0v3EbzgM9akDsHbn2o54WCdzh0Zzw~yJrcoBTHzkpBu0b3e4IiEFHUdKgVjryQRumLznIbaqEe146IC7FJqq8QqYWHVLcfquK9f3IXfCzoSNGeXGPWgT2l0BbzwAR6hxHeKxAxrXEajM7YWNwwIL7U_&Key-Pair-Id=APKAJLTNE6QMUY6HBC5A): list crimes in the city area.\n",
    "\n",
    "### 2.2 Processed the data sources\n",
    "\n",
    "Given the fact that the address are not necessarly well formatted, we need to rely on gps coordinates to combine the different datasets. Even though each dataset contains gps coordinates associated to most incidents, these are not always reliable. The initial task was to actually extract useful features from the original data into processed data-sets.\n",
    "The description of the post-processing is described in [Github repository: Preprocessing](https://github.com/BreizhZut/CourseraDataAtScaleCapStone_Predicting_blight_in_Detroit/blob/master/Capstone_preprocessing.ipynb).\n",
    "\n",
    " \n",
    "* *blight_demolition.csv*: processed demotion-permit dataset\n",
    "  * **address**: address of the demolition site (not relevant for the models)\n",
    "  * **date**: date of issue of the demolition permit m/d/y (not relevant for the models)\n",
    "  * **type**: Takes value \"DISM\" or \"Dismantle\"\n",
    "  * **long**: longitude \n",
    "  * **lat**: latitude\n",
    "  \n",
    "  \n",
    "* *blight_incident_count.csv*: processed blight violation dataset\n",
    "  * **ViolationStreetNumber**: Street number extracted from the source file, instance with negative or missing value were removed (not relevant for the models)\n",
    "  * **ViolationStreetName**: Street number extracted from the source file, street abbreviations were removed (not relevant for the models)\n",
    "  * **address**: Vialtion address concatenated from  ViolationStreetNumber and ViolationStreetName (not relevant for the models)\n",
    "  * **blight_inc**: number of blight violations associated to the adress \t\n",
    "  * **blight_paid**: total amount in USD assocated with the original *PAID IN FULL* label\n",
    "  * **blight_partial**: total amount in USD associated with the original *PARTIAL PAYMENT MADE* label\n",
    "  * **blight_nopaid**: total amount in USD associated with the original *NO PAYMENT ON RECORD* label\n",
    "  * **blight_notapplied**: total amount in USD associated with the original *NO PAYMENT APPLIED* label\n",
    "  * **long**: longitude \n",
    "  * **lat**: latitude\n",
    "\n",
    "\n",
    "* *c311_incident_count.csv*\t\n",
    "  * **long**: longitude associated to the complaint\n",
    "  * **lat**: latitude associated to the complaint\n",
    "  * **inc_311**: number of incidents reported through 311 call for these set of coordinates\n",
    "\n",
    "\n",
    "* *crime_incident_count.csv*\n",
    "  * **long**: longitude associated to the complaint\n",
    "  * **lat**: latitude associated to the complaint\n",
    "  * **crime_inc**: number of incidents reported through 311 call for these set of coordinates\n",
    "\n",
    "\n",
    "* *test_set.csv*\n",
    "  * **long**: longitude associated to the location\n",
    "  * **lat**: latitude associated to the location\n",
    "  * **demolition**: Categorical 1: demolition permit issued, 0: no demolition permit issued \n",
    "\n",
    "\n",
    "* *train_set.csv*\n",
    "  * **long**: longitude associated to the location\n",
    "  * **lat**: latitude associated to the location\n",
    "  * **demolition**: Categorical 1: demolition permit issued, 0: no demolition permit issued \n",
    "\n",
    "\n",
    "* *grid.json*: json file containing parameters for reproducing a grid accross the city "
   ]
  },
  {
   "cell_type": "markdown",
   "metadata": {},
   "source": [
    "## 3 Combining data sets\n",
    "\n",
    "Before we start processing the data, we import the following python packages."
   ]
  },
  {
   "cell_type": "code",
   "execution_count": 1,
   "metadata": {
    "collapsed": true
   },
   "outputs": [],
   "source": [
    "# use this for incorporating figure in the notebook\n",
    "%matplotlib inline              \n",
    "import matplotlib.pyplot as plt # for vizualisation\n",
    "import os                       # file system utilities\n",
    "import time                     # for mesuring CPU time\n",
    "import json                     # json library\n",
    "import pandas as pd             # data processing\n",
    "from datetime import datetime   # for treating dates\n",
    "import geopy.distance           # gps cooridnate convertion\n",
    "from collections import Counter # usefull function\n",
    "import sklearn                  # machine learning library\n",
    "import graphviz                 # visualization for dot\n",
    "# Machine learning libraries and utilities\n",
    "from sklearn import tree        # classification trees\n",
    "from sklearn.metrics import confusion_matrix  \n",
    "from sklearn.model_selection import cross_val_score,GridSearchCV\n",
    "from sklearn.ensemble import RandomForestClassifier"
   ]
  },
  {
   "cell_type": "markdown",
   "metadata": {},
   "source": [
    "### 3.1 Grid helper functions\n",
    "\n",
    "* First we define a fixe area for Detroit city limit\n",
    "* Then we define several helper fonctions to:\n",
    "    * select rows within the city area\n",
    "    * define a grid using a fixed resolution in m\n",
    "    * convert gps coordinate into a grid index"
   ]
  },
  {
   "cell_type": "code",
   "execution_count": 2,
   "metadata": {
    "collapsed": true
   },
   "outputs": [],
   "source": [
    "processed_path = \"Processed\"+os.sep\n",
    "jsoncon = open(processed_path+\"grid.json\",\"r\")\n",
    "grid_json = json.loads(jsoncon.read())\n",
    "jsoncon.close()\n",
    "gps_box = grid_json['box']\n",
    "gdef = grid_json['grid']"
   ]
  },
  {
   "cell_type": "code",
   "execution_count": 3,
   "metadata": {
    "collapsed": true
   },
   "outputs": [],
   "source": [
    "def within_area(gps_coords):\n",
    "    \"\"\"\n",
    "    read series with lat and long fields\n",
    "    returns True if coordinates are within box area\n",
    "    retruns False otherwise\n",
    "    \"\"\"\n",
    "    if any(gps_coords[[\"long\",\"lat\"]].isnull()):\n",
    "        return False\n",
    "    if gps_coords[\"long\"] < gps_box[\"long\"][0]:\n",
    "        return False\n",
    "    elif gps_coords[\"long\"] > gps_box[\"long\"][1]:\n",
    "        return False\n",
    "    if gps_coords[\"lat\"] < gps_box[\"lat\"][0]:\n",
    "        return False\n",
    "    elif gps_coords[\"lat\"] > gps_box[\"lat\"][1]:\n",
    "        return False\n",
    "    return True"
   ]
  },
  {
   "cell_type": "markdown",
   "metadata": {},
   "source": [
    "The grid parameter were generated with the following method. We copy it to this notebook to create a new gird if necessary"
   ]
  },
  {
   "cell_type": "code",
   "execution_count": 4,
   "metadata": {
    "collapsed": true
   },
   "outputs": [],
   "source": [
    "def prep_grid(dg):\n",
    "    \"\"\"\n",
    "    Take a dstance in meter as input\n",
    "    Read the gps_box \n",
    "    Returns a dictionnary defining the grid\n",
    "    \"\"\"\n",
    "    # we use differents scale for lattitude and longitudes \n",
    "    dlat = (gps_box[\"lat\"][1]-gps_box[\"lat\"][0])*dg/gps_box[\"Dy\"]\n",
    "    dlong = (gps_box[\"long\"][1]-gps_box[\"long\"][0])*dg/gps_box[\"Dx\"]\n",
    "    nx = int(gps_box[\"Dx\"]/dg) + 1\n",
    "    ny = int(gps_box[\"Dy\"]/dg) + 1\n",
    "    return {\"dlat\":dlat,\"dlong\":dlong,\"nx\":nx,\"ny\":ny,\"scale\":dg}"
   ]
  },
  {
   "cell_type": "markdown",
   "metadata": {},
   "source": [
    "To ensure that non demolished buildings would not overlap with the demolished dataset, we previously used a 60m grid to combine the data. Now we want to improve precision for combining blight and demolition dataset we move to a 30m scale."
   ]
  },
  {
   "cell_type": "code",
   "execution_count": 5,
   "metadata": {
    "collapsed": true
   },
   "outputs": [],
   "source": [
    "scal = 30\n",
    "gdef = prep_grid(scal)"
   ]
  },
  {
   "cell_type": "markdown",
   "metadata": {},
   "source": [
    "This method project gps coordinates into the grid and return an index. We shall use this method to aggregate each processed datasets into the grid"
   ]
  },
  {
   "cell_type": "code",
   "execution_count": 6,
   "metadata": {
    "collapsed": true
   },
   "outputs": [],
   "source": [
    "def build_grid_index(line):\n",
    "    \"\"\"\n",
    "    Takes a row containing fileds \"long\" and \"lat\" as input\n",
    "    Return a grid index corresponding to the gird defined as gdef\n",
    "    Note: row must have been selected with the select_within_area method\n",
    "    \"\"\"\n",
    "    ix = int((line[\"long\"]-gps_box[\"long\"][0])/gdef[\"dlong\"])\n",
    "    iy = int((line[\"lat\"]-gps_box[\"lat\"][0])/gdef[\"dlat\"])\n",
    "    return iy*gdef[\"nx\"] + ix"
   ]
  },
  {
   "cell_type": "markdown",
   "metadata": {},
   "source": [
    "### 3.2 Aggregating processed datasets into the gird\n",
    "\n",
    "For each of the blight-incidents, 311 calls and crimes datasets, we\n",
    "* read the datasets.\n",
    "* apply the grid\n",
    "* aggregate the data by grid index into a new dataframe"
   ]
  },
  {
   "cell_type": "code",
   "execution_count": 7,
   "metadata": {},
   "outputs": [
    {
     "data": {
      "text/html": [
       "<div>\n",
       "<style>\n",
       "    .dataframe thead tr:only-child th {\n",
       "        text-align: right;\n",
       "    }\n",
       "\n",
       "    .dataframe thead th {\n",
       "        text-align: left;\n",
       "    }\n",
       "\n",
       "    .dataframe tbody tr th {\n",
       "        vertical-align: top;\n",
       "    }\n",
       "</style>\n",
       "<table border=\"1\" class=\"dataframe\">\n",
       "  <thead>\n",
       "    <tr style=\"text-align: right;\">\n",
       "      <th></th>\n",
       "      <th>blight_notapplied</th>\n",
       "      <th>long</th>\n",
       "      <th>blight_paid</th>\n",
       "      <th>blight_partial</th>\n",
       "      <th>blight_nopaid</th>\n",
       "      <th>lat</th>\n",
       "      <th>blight_inc</th>\n",
       "    </tr>\n",
       "    <tr>\n",
       "      <th>grid</th>\n",
       "      <th></th>\n",
       "      <th></th>\n",
       "      <th></th>\n",
       "      <th></th>\n",
       "      <th></th>\n",
       "      <th></th>\n",
       "      <th></th>\n",
       "    </tr>\n",
       "  </thead>\n",
       "  <tbody>\n",
       "    <tr>\n",
       "      <th>33299</th>\n",
       "      <td>4440.0</td>\n",
       "      <td>-83.160440</td>\n",
       "      <td>660.0</td>\n",
       "      <td>0.0</td>\n",
       "      <td>0.0</td>\n",
       "      <td>42.255977</td>\n",
       "      <td>3</td>\n",
       "    </tr>\n",
       "    <tr>\n",
       "      <th>34787</th>\n",
       "      <td>120.0</td>\n",
       "      <td>-83.160905</td>\n",
       "      <td>0.0</td>\n",
       "      <td>0.0</td>\n",
       "      <td>0.0</td>\n",
       "      <td>42.256221</td>\n",
       "      <td>1</td>\n",
       "    </tr>\n",
       "    <tr>\n",
       "      <th>34790</th>\n",
       "      <td>2220.0</td>\n",
       "      <td>-83.160147</td>\n",
       "      <td>120.0</td>\n",
       "      <td>0.0</td>\n",
       "      <td>0.0</td>\n",
       "      <td>42.256343</td>\n",
       "      <td>8</td>\n",
       "    </tr>\n",
       "    <tr>\n",
       "      <th>36278</th>\n",
       "      <td>240.0</td>\n",
       "      <td>-83.160621</td>\n",
       "      <td>0.0</td>\n",
       "      <td>0.0</td>\n",
       "      <td>0.0</td>\n",
       "      <td>42.256560</td>\n",
       "      <td>2</td>\n",
       "    </tr>\n",
       "    <tr>\n",
       "      <th>36279</th>\n",
       "      <td>240.0</td>\n",
       "      <td>-83.160551</td>\n",
       "      <td>0.0</td>\n",
       "      <td>0.0</td>\n",
       "      <td>0.0</td>\n",
       "      <td>42.256641</td>\n",
       "      <td>2</td>\n",
       "    </tr>\n",
       "  </tbody>\n",
       "</table>\n",
       "</div>"
      ],
      "text/plain": [
       "       blight_notapplied       long  blight_paid  blight_partial  \\\n",
       "grid                                                               \n",
       "33299             4440.0 -83.160440        660.0             0.0   \n",
       "34787              120.0 -83.160905          0.0             0.0   \n",
       "34790             2220.0 -83.160147        120.0             0.0   \n",
       "36278              240.0 -83.160621          0.0             0.0   \n",
       "36279              240.0 -83.160551          0.0             0.0   \n",
       "\n",
       "       blight_nopaid        lat  blight_inc  \n",
       "grid                                         \n",
       "33299            0.0  42.255977           3  \n",
       "34787            0.0  42.256221           1  \n",
       "34790            0.0  42.256343           8  \n",
       "36278            0.0  42.256560           2  \n",
       "36279            0.0  42.256641           2  "
      ]
     },
     "execution_count": 7,
     "metadata": {},
     "output_type": "execute_result"
    }
   ],
   "source": [
    "# read the file and associate gird indexes as a new feature\n",
    "blight_inc = pd.read_csv(processed_path+\"blight_incident_count.csv\")\n",
    "blight_inc[\"grid\"] = blight_inc.apply(build_grid_index,axis=1)\n",
    "# select the columns to aggregate and create the aggregated data frame\n",
    "blight_col = [\"long\",\"lat\",\"blight_inc\",\"blight_paid\",\"blight_partial\",\"blight_nopaid\",\"blight_notapplied\",\"grid\"]\n",
    "blight_grid = blight_inc[blight_col].groupby(\"grid\").agg({\n",
    "    \"lat\":\"mean\",\n",
    "    \"long\":\"mean\",\n",
    "    \"blight_inc\":\"sum\",\n",
    "    \"blight_paid\":\"sum\",\n",
    "    \"blight_partial\":\"sum\",\n",
    "    \"blight_nopaid\":\"sum\",\n",
    "    \"blight_notapplied\":\"sum\"\n",
    "})\n",
    "blight_grid.head()"
   ]
  },
  {
   "cell_type": "code",
   "execution_count": 8,
   "metadata": {},
   "outputs": [
    {
     "data": {
      "text/html": [
       "<div>\n",
       "<style>\n",
       "    .dataframe thead tr:only-child th {\n",
       "        text-align: right;\n",
       "    }\n",
       "\n",
       "    .dataframe thead th {\n",
       "        text-align: left;\n",
       "    }\n",
       "\n",
       "    .dataframe tbody tr th {\n",
       "        vertical-align: top;\n",
       "    }\n",
       "</style>\n",
       "<table border=\"1\" class=\"dataframe\">\n",
       "  <thead>\n",
       "    <tr style=\"text-align: right;\">\n",
       "      <th></th>\n",
       "      <th>lat</th>\n",
       "      <th>inc_311</th>\n",
       "      <th>long</th>\n",
       "    </tr>\n",
       "    <tr>\n",
       "      <th>grid</th>\n",
       "      <th></th>\n",
       "      <th></th>\n",
       "      <th></th>\n",
       "    </tr>\n",
       "  </thead>\n",
       "  <tbody>\n",
       "    <tr>\n",
       "      <th>31809</th>\n",
       "      <td>42.255736</td>\n",
       "      <td>1</td>\n",
       "      <td>-83.160580</td>\n",
       "    </tr>\n",
       "    <tr>\n",
       "      <th>33298</th>\n",
       "      <td>42.256102</td>\n",
       "      <td>1</td>\n",
       "      <td>-83.160697</td>\n",
       "    </tr>\n",
       "    <tr>\n",
       "      <th>34790</th>\n",
       "      <td>42.256356</td>\n",
       "      <td>1</td>\n",
       "      <td>-83.160224</td>\n",
       "    </tr>\n",
       "    <tr>\n",
       "      <th>37771</th>\n",
       "      <td>42.256990</td>\n",
       "      <td>2</td>\n",
       "      <td>-83.159955</td>\n",
       "    </tr>\n",
       "    <tr>\n",
       "      <th>45213</th>\n",
       "      <td>42.258149</td>\n",
       "      <td>1</td>\n",
       "      <td>-83.161980</td>\n",
       "    </tr>\n",
       "  </tbody>\n",
       "</table>\n",
       "</div>"
      ],
      "text/plain": [
       "             lat  inc_311       long\n",
       "grid                                \n",
       "31809  42.255736        1 -83.160580\n",
       "33298  42.256102        1 -83.160697\n",
       "34790  42.256356        1 -83.160224\n",
       "37771  42.256990        2 -83.159955\n",
       "45213  42.258149        1 -83.161980"
      ]
     },
     "execution_count": 8,
     "metadata": {},
     "output_type": "execute_result"
    }
   ],
   "source": [
    "# read the file and associate gird indexes as a new feature\n",
    "c311_inc = pd.read_csv(processed_path+\"c311_incident_count.csv\")\n",
    "c311_inc[\"grid\"] = c311_inc.apply(build_grid_index,axis=1)\n",
    "# create the aggregated data frame\n",
    "c311_grid = c311_inc.groupby(\"grid\").agg({\n",
    "    \"lat\":\"mean\",\n",
    "    \"long\":\"mean\",\n",
    "    \"inc_311\":\"sum\",\n",
    "})\n",
    "c311_grid.head()"
   ]
  },
  {
   "cell_type": "code",
   "execution_count": 9,
   "metadata": {},
   "outputs": [
    {
     "data": {
      "text/html": [
       "<div>\n",
       "<style>\n",
       "    .dataframe thead tr:only-child th {\n",
       "        text-align: right;\n",
       "    }\n",
       "\n",
       "    .dataframe thead th {\n",
       "        text-align: left;\n",
       "    }\n",
       "\n",
       "    .dataframe tbody tr th {\n",
       "        vertical-align: top;\n",
       "    }\n",
       "</style>\n",
       "<table border=\"1\" class=\"dataframe\">\n",
       "  <thead>\n",
       "    <tr style=\"text-align: right;\">\n",
       "      <th></th>\n",
       "      <th>lat</th>\n",
       "      <th>crime_inc</th>\n",
       "      <th>long</th>\n",
       "    </tr>\n",
       "    <tr>\n",
       "      <th>grid</th>\n",
       "      <th></th>\n",
       "      <th></th>\n",
       "      <th></th>\n",
       "    </tr>\n",
       "  </thead>\n",
       "  <tbody>\n",
       "    <tr>\n",
       "      <th>28826</th>\n",
       "      <td>42.2553</td>\n",
       "      <td>1</td>\n",
       "      <td>-83.1612</td>\n",
       "    </tr>\n",
       "    <tr>\n",
       "      <th>28908</th>\n",
       "      <td>42.2554</td>\n",
       "      <td>1</td>\n",
       "      <td>-83.1392</td>\n",
       "    </tr>\n",
       "    <tr>\n",
       "      <th>31806</th>\n",
       "      <td>42.2558</td>\n",
       "      <td>1</td>\n",
       "      <td>-83.1613</td>\n",
       "    </tr>\n",
       "    <tr>\n",
       "      <th>33294</th>\n",
       "      <td>42.2560</td>\n",
       "      <td>1</td>\n",
       "      <td>-83.1619</td>\n",
       "    </tr>\n",
       "    <tr>\n",
       "      <th>33368</th>\n",
       "      <td>42.2561</td>\n",
       "      <td>1</td>\n",
       "      <td>-83.1420</td>\n",
       "    </tr>\n",
       "  </tbody>\n",
       "</table>\n",
       "</div>"
      ],
      "text/plain": [
       "           lat  crime_inc     long\n",
       "grid                              \n",
       "28826  42.2553          1 -83.1612\n",
       "28908  42.2554          1 -83.1392\n",
       "31806  42.2558          1 -83.1613\n",
       "33294  42.2560          1 -83.1619\n",
       "33368  42.2561          1 -83.1420"
      ]
     },
     "execution_count": 9,
     "metadata": {},
     "output_type": "execute_result"
    }
   ],
   "source": [
    "# read the file and associate gird indexes as a new feature\n",
    "crime_inc = pd.read_csv(processed_path+\"crime_incident_count.csv\")\n",
    "crime_inc[\"grid\"] = crime_inc.apply(build_grid_index,axis=1)\n",
    "# create the aggregated data frame\n",
    "crime_grid = crime_inc.groupby(\"grid\").agg({\n",
    "    \"lat\":\"mean\",\n",
    "    \"long\":\"mean\",\n",
    "    \"crime_inc\":\"sum\",\n",
    "})\n",
    "crime_grid.head()"
   ]
  },
  {
   "cell_type": "markdown",
   "metadata": {},
   "source": [
    "We may select one of several neighboring cells. By using this aggregation we run part of the aggregation thus reducing the amount of duplicated calculations in the rest of the notebook."
   ]
  },
  {
   "cell_type": "code",
   "execution_count": 10,
   "metadata": {},
   "outputs": [
    {
     "data": {
      "image/png": "[encoded data removed]",
      "text/plain": [
       "<matplotlib.figure.Figure at 0x113d42450>"
      ]
     },
     "metadata": {},
     "output_type": "display_data"
    }
   ],
   "source": [
    "fig = plt.figure(figsize=(15,3))\n",
    "axl  = plt.subplot(131)\n",
    "axb = blight_grid.plot.scatter(x=\"long\",y=\"lat\",s=0.01,color=\"blue\",alpha=0.3,ax=axl)\n",
    "xlab = plt.xlabel(\"Longitude\")\n",
    "ylab = plt.ylabel(\"Latitude\")\n",
    "xl = plt.xlim(gps_box[\"long\"])\n",
    "yl = plt.ylim(gps_box[\"lat\"])\n",
    "xy = plt.axis('equal')\n",
    "ltit = plt.title(\"Blight violations\")\n",
    "axm = plt.subplot(132)\n",
    "ax311 = c311_grid.plot.scatter(x=\"long\",y=\"lat\",s=0.01,color=\"green\",alpha=0.8,ax=axm)\n",
    "xlab = plt.xlabel(\"Longitude\")\n",
    "ylab = plt.ylabel(\"Latitude\")\n",
    "xl = plt.xlim(gps_box[\"long\"])\n",
    "yl = plt.ylim(gps_box[\"lat\"])\n",
    "xy = plt.axis('equal')\n",
    "mtit = plt.title(\"311 calls\")\n",
    "axr = plt.subplot(133)\n",
    "ax311 = crime_grid.plot.scatter(x=\"long\",y=\"lat\",s=0.01,color=\"red\",alpha=0.4,ax=axr)\n",
    "xlab = plt.xlabel(\"Longitude\")\n",
    "ylab = plt.ylabel(\"Latitude\")\n",
    "xl = plt.xlim(gps_box[\"long\"])\n",
    "yl = plt.ylim(gps_box[\"lat\"])\n",
    "xy = plt.axis('equal')\n",
    "rtit = plt.title(\"Crimes\")"
   ]
  },
  {
   "cell_type": "markdown",
   "metadata": {},
   "source": [
    "### 3.3 Creating features on the test and train set\n",
    "\n",
    "* We first read the training and testing data sets\n",
    "* We represent in the figure for both training and test sets the demolished building in red and the non demolished in blue\n",
    "* For each data set we build the following features\n",
    "    * total number of blight violations within 1 grid cell\n",
    "    * total blight violation amount per blight_paid, blight_partial, blight_nopaid and  blight_notapplied categories within 1 grid cell\n",
    "    * total number of 311 calls within 15 grid cell\n",
    "    * total number of crimes within 15 grid cell"
   ]
  },
  {
   "cell_type": "code",
   "execution_count": 11,
   "metadata": {},
   "outputs": [
    {
     "data": {
      "image/png": "[encoded data removed]",
      "text/plain": [
       "<matplotlib.figure.Figure at 0x1151bce10>"
      ]
     },
     "metadata": {},
     "output_type": "display_data"
    }
   ],
   "source": [
    "# reading the data set\n",
    "train = pd.read_csv(processed_path+\"train_set.csv\")\n",
    "test  = pd.read_csv(processed_path+\"test_set.csv\")\n",
    "\n",
    "# checking the data set by visuzlization\n",
    "cmap = {1: 'red', 0: 'blue'}\n",
    "fig = plt.figure(figsize=(10,3))\n",
    "axl  = plt.subplot(121)\n",
    "axb = train.plot.scatter(x=\"long\",y=\"lat\",s=0.01,alpha=0.9,ax=axl,\n",
    "                         c=[cmap.get(c, 'black') for c in train.demolition])\n",
    "xlab = plt.xlabel(\"Longitude\")\n",
    "ylab = plt.ylabel(\"Latitude\")\n",
    "xl = plt.xlim(gps_box[\"long\"])\n",
    "yl = plt.ylim(gps_box[\"lat\"])\n",
    "xy = plt.axis('equal')\n",
    "ltit = plt.title(\"Train set\")\n",
    "axr = plt.subplot(122)\n",
    "ax311 = test.plot.scatter(x=\"long\",y=\"lat\",s=0.05,alpha=0.9,ax=axr,\n",
    "                          c=[cmap.get(d) for d in test.demolition])\n",
    "xlab = plt.xlabel(\"Longitude\")\n",
    "ylab = plt.ylabel(\"Latitude\")\n",
    "xl = plt.xlim(gps_box[\"long\"])\n",
    "yl = plt.ylim(gps_box[\"lat\"])\n",
    "xy = plt.axis('equal')\n",
    "rtit = plt.title(\"Test set\")"
   ]
  },
  {
   "cell_type": "markdown",
   "metadata": {},
   "source": [
    "We confirm with the figure above that both train set and train set appear to be correct in term of distribution of buildings and their labels, as a fonction of gps coordinates. We now proceed if adding features to these labelled datasets from the 3 dataset we have previously preprocessed."
   ]
  },
  {
   "cell_type": "code",
   "execution_count": 12,
   "metadata": {},
   "outputs": [],
   "source": [
    "# aggregate features of the neighbouring cells \n",
    "ng_blight = 1\n",
    "agg_col = [\"blight_inc\",\"blight_paid\",\"blight_partial\",\"blight_nopaid\",\"blight_notapplied\"]\n",
    "glat = gdef[\"dlat\"]*(ng_blight+0.5)\n",
    "glong = gdef[\"dlong\"]*(ng_blight+0.5)\n",
    "def add_blight_features(line):\n",
    "    \"\"\"\n",
    "    Take a row containing latitude and logitude\n",
    "    Select grid sel of the blight dataset within the area\n",
    "    Aggregate en return corresponding features\n",
    "    \"\"\"\n",
    "    lat_sel = pd.np.logical_and(blight_grid.lat < line[\"lat\"]+glat,blight_grid.lat > line[\"lat\"]-glat)\n",
    "    long_sel = pd.np.logical_and(blight_grid.long < line[\"long\"]+glong,blight_grid.long > line[\"long\"]-glong)\n",
    "    g_sel = pd.np.logical_and(lat_sel,long_sel)\n",
    "    return blight_grid.loc[g_sel,agg_col].apply(sum)\n",
    "train = train.merge(\n",
    "    train.apply(add_blight_features,axis=1),\n",
    "    left_index=True,right_index=True)\n",
    "train.fillna(0,inplace=True)\n",
    "test = test.merge(\n",
    "    test.apply(add_blight_features,axis=1),\n",
    "    left_index=True,right_index=True)\n",
    "test.fillna(0,inplace=True)"
   ]
  },
  {
   "cell_type": "code",
   "execution_count": 13,
   "metadata": {
    "collapsed": true
   },
   "outputs": [],
   "source": [
    "# aggregate features of the neighbouring cells \n",
    "ng_311 = 15\n",
    "glat = gdef[\"dlat\"]*(ng_311+0.5)\n",
    "glong = gdef[\"dlong\"]*(ng_311+0.5)\n",
    "def add_311_features(line):\n",
    "    \"\"\"\n",
    "    Take a row containing latitude and logitude\n",
    "    Select grid sel of the blight dataset within the area\n",
    "    Aggregate en return corresponding features\n",
    "    \"\"\"\n",
    "    lat_sel = pd.np.logical_and(c311_grid.lat < line[\"lat\"]+glat,c311_grid.lat > line[\"lat\"]-glat)\n",
    "    long_sel = pd.np.logical_and(c311_grid.long < line[\"long\"]+glong,c311_grid.long > line[\"long\"]-glong)\n",
    "    g_sel = pd.np.logical_and(lat_sel,long_sel)\n",
    "    return c311_grid.loc[g_sel,\"inc_311\"].sum()\n",
    "train[\"inc_311\"] = train.apply(add_311_features,axis=1)\n",
    "test[\"inc_311\"] = test.apply(add_311_features,axis=1) "
   ]
  },
  {
   "cell_type": "code",
   "execution_count": 14,
   "metadata": {
    "collapsed": true
   },
   "outputs": [],
   "source": [
    "# aggregate features of the neighbouring cells \n",
    "ng_crime = 15\n",
    "glat = gdef[\"dlat\"]*(ng_crime+0.5)\n",
    "glong = gdef[\"dlong\"]*(ng_crime+0.5)\n",
    "def add_crime_features(line):\n",
    "    \"\"\"\n",
    "    Take a row containing latitude and logitude\n",
    "    Select grid sel of the blight dataset within the area\n",
    "    Aggregate en return corresponding features\n",
    "    \"\"\"\n",
    "    lat_sel = pd.np.logical_and(crime_grid.lat < line[\"lat\"]+glat,crime_grid.lat > line[\"lat\"]-glat)\n",
    "    long_sel = pd.np.logical_and(crime_grid.long < line[\"long\"]+glong,crime_grid.long > line[\"long\"]-glong)\n",
    "    g_sel = pd.np.logical_and(lat_sel,long_sel)\n",
    "    return crime_grid.loc[g_sel,\"crime_inc\"].sum()\n",
    "train[\"crime_inc\"] = train.apply(add_crime_features,axis=1)\n",
    "test[\"crime_inc\"] = test.apply(add_crime_features,axis=1) "
   ]
  },
  {
   "cell_type": "markdown",
   "metadata": {},
   "source": [
    "We now see the appearance of the final dataset combining all features. We mentions that even though the gps cooridinates are included in this data set they are not part of the models we create bellow."
   ]
  },
  {
   "cell_type": "code",
   "execution_count": 15,
   "metadata": {},
   "outputs": [
    {
     "data": {
      "text/html": [
       "<div>\n",
       "<style>\n",
       "    .dataframe thead tr:only-child th {\n",
       "        text-align: right;\n",
       "    }\n",
       "\n",
       "    .dataframe thead th {\n",
       "        text-align: left;\n",
       "    }\n",
       "\n",
       "    .dataframe tbody tr th {\n",
       "        vertical-align: top;\n",
       "    }\n",
       "</style>\n",
       "<table border=\"1\" class=\"dataframe\">\n",
       "  <thead>\n",
       "    <tr style=\"text-align: right;\">\n",
       "      <th></th>\n",
       "      <th>long</th>\n",
       "      <th>lat</th>\n",
       "      <th>demolition</th>\n",
       "      <th>blight_inc</th>\n",
       "      <th>blight_paid</th>\n",
       "      <th>blight_partial</th>\n",
       "      <th>blight_nopaid</th>\n",
       "      <th>blight_notapplied</th>\n",
       "      <th>inc_311</th>\n",
       "      <th>crime_inc</th>\n",
       "    </tr>\n",
       "  </thead>\n",
       "  <tbody>\n",
       "    <tr>\n",
       "      <th>0</th>\n",
       "      <td>-82.978012</td>\n",
       "      <td>42.412112</td>\n",
       "      <td>0</td>\n",
       "      <td>0.0</td>\n",
       "      <td>0.0</td>\n",
       "      <td>0.0</td>\n",
       "      <td>0.0</td>\n",
       "      <td>0.0</td>\n",
       "      <td>43</td>\n",
       "      <td>231</td>\n",
       "    </tr>\n",
       "    <tr>\n",
       "      <th>1</th>\n",
       "      <td>-82.992764</td>\n",
       "      <td>42.377932</td>\n",
       "      <td>1</td>\n",
       "      <td>7.0</td>\n",
       "      <td>0.0</td>\n",
       "      <td>0.0</td>\n",
       "      <td>0.0</td>\n",
       "      <td>3420.0</td>\n",
       "      <td>36</td>\n",
       "      <td>109</td>\n",
       "    </tr>\n",
       "    <tr>\n",
       "      <th>2</th>\n",
       "      <td>-83.286062</td>\n",
       "      <td>42.438711</td>\n",
       "      <td>0</td>\n",
       "      <td>3.0</td>\n",
       "      <td>4380.0</td>\n",
       "      <td>0.0</td>\n",
       "      <td>0.0</td>\n",
       "      <td>180.0</td>\n",
       "      <td>18</td>\n",
       "      <td>93</td>\n",
       "    </tr>\n",
       "    <tr>\n",
       "      <th>3</th>\n",
       "      <td>-83.132418</td>\n",
       "      <td>42.415267</td>\n",
       "      <td>0</td>\n",
       "      <td>1.0</td>\n",
       "      <td>180.0</td>\n",
       "      <td>0.0</td>\n",
       "      <td>0.0</td>\n",
       "      <td>0.0</td>\n",
       "      <td>33</td>\n",
       "      <td>199</td>\n",
       "    </tr>\n",
       "    <tr>\n",
       "      <th>4</th>\n",
       "      <td>-83.147667</td>\n",
       "      <td>42.290693</td>\n",
       "      <td>1</td>\n",
       "      <td>9.0</td>\n",
       "      <td>360.0</td>\n",
       "      <td>0.0</td>\n",
       "      <td>0.0</td>\n",
       "      <td>2580.0</td>\n",
       "      <td>11</td>\n",
       "      <td>17</td>\n",
       "    </tr>\n",
       "  </tbody>\n",
       "</table>\n",
       "</div>"
      ],
      "text/plain": [
       "        long        lat  demolition  blight_inc  blight_paid  blight_partial  \\\n",
       "0 -82.978012  42.412112           0         0.0          0.0             0.0   \n",
       "1 -82.992764  42.377932           1         7.0          0.0             0.0   \n",
       "2 -83.286062  42.438711           0         3.0       4380.0             0.0   \n",
       "3 -83.132418  42.415267           0         1.0        180.0             0.0   \n",
       "4 -83.147667  42.290693           1         9.0        360.0             0.0   \n",
       "\n",
       "   blight_nopaid  blight_notapplied  inc_311  crime_inc  \n",
       "0            0.0                0.0       43        231  \n",
       "1            0.0             3420.0       36        109  \n",
       "2            0.0              180.0       18         93  \n",
       "3            0.0                0.0       33        199  \n",
       "4            0.0             2580.0       11         17  "
      ]
     },
     "execution_count": 15,
     "metadata": {},
     "output_type": "execute_result"
    }
   ],
   "source": [
    "train.head()"
   ]
  },
  {
   "cell_type": "markdown",
   "metadata": {},
   "source": [
    "#### 4 Using Machine learning to predict demolition \n",
    "\n",
    "### 4.1 Preparing inputs and outputs\n",
    "\n",
    "We start by selecting different inputs for our method defining differents models\n",
    "\n",
    "* **Model 0**: takes only the number of local blight violations as input\n",
    "* **Model 1**: takes only the differents local blight violations amounts associated to their payment status.\n",
    "* **Model 2**: takes only the number of local 311 calls and local crime incidets as input\n",
    "* **Model 3**: takes only the number of local blight violations, 311 calls and local crime incidets as input\n",
    "* **Model 4**: use all features from Model 1 and Model 3\n",
    "* **Model 5**: use all features"
   ]
  },
  {
   "cell_type": "code",
   "execution_count": 16,
   "metadata": {},
   "outputs": [],
   "source": [
    "train_label = train[\"demolition\"].values.reshape(len(train),)\n",
    "test_label = test[\"demolition\"].values.reshape(len(test),)\n",
    "mod0_lab = {\"blight_inc\":\"blight violations\"}\n",
    "mod2_lab = {\"inc_311\":\"311 calls\",\"crime_inc\":\"crimes\"}\n",
    "mod1_lab = {\"blight_paid\":\"Blight paid\",\"blight_partial\":\"Blight partiel\",\n",
    "            \"blight_nopaid\":\"Blight unpaid\",\"blight_notapplied\":\"Blight not applied\"}\n",
    "mod3_lab = {\"blight_inc\":\"blight violations\",\"inc_311\":\"311 calls\",\"crime_inc\":\"crimes\"}\n",
    "mod4_lab = {\"inc_311\":\"311 calls\",\"crime_inc\":\"crimes\",\n",
    "            \"blight_paid\":\"Blight paid\",\"blight_partial\":\"Blight partiel\",\n",
    "            \"blight_nopaid\":\"Blight unpaid\",\"blight_notapplied\":\"Blight not applied\"}\n",
    "mod5_lab = {\"blight_inc\":\"blight violations\",\"inc_311\":\"311 calls\",\"crime_inc\":\"crimes\",\n",
    "            \"blight_paid\":\"Blight paid\",\"blight_partial\":\"Blight partiel\",\n",
    "            \"blight_nopaid\":\"Blight unpaid\",\"blight_notapplied\":\"Blight not applied\"}\n",
    "train0   = train[mod0_lab.keys()].values.reshape(len(train),len(mod0_lab))\n",
    "train1   = train[mod1_lab.keys()].values.reshape(len(train),len(mod1_lab))\n",
    "train2   = train[mod2_lab.keys()].values.reshape(len(train),len(mod2_lab))\n",
    "train3   = train[mod3_lab.keys()].values.reshape(len(train),len(mod3_lab))\n",
    "train4   = train[mod4_lab.keys()].values.reshape(len(train),len(mod4_lab))\n",
    "train5   = train[mod5_lab.keys()].values.reshape(len(train),len(mod5_lab))\n",
    "test0    = test[mod0_lab.keys()].values.reshape(len(test),len(mod0_lab))\n",
    "test1    = test[mod1_lab.keys()].values.reshape(len(test),len(mod1_lab))\n",
    "test2    = test[mod2_lab.keys()].values.reshape(len(test),len(mod2_lab))\n",
    "test3    = test[mod3_lab.keys()].values.reshape(len(test),len(mod3_lab))\n",
    "test4    = test[mod4_lab.keys()].values.reshape(len(test),len(mod4_lab))\n",
    "test5    = test[mod5_lab.keys()].values.reshape(len(test),len(mod5_lab))\n",
    "# set random seed\n",
    "pd.np.random.seed(42)"
   ]
  },
  {
   "cell_type": "markdown",
   "metadata": {},
   "source": [
    "We create an helper function so that we may evaluate each model the same way, computing:\n",
    "* Accuracy\n",
    "* Precsion\n",
    "* Recall\n",
    "* True Negative fraction\n",
    "* True Positive fraction\n",
    "* False Negative fraction\n",
    "* False Positive fraction"
   ]
  },
  {
   "cell_type": "code",
   "execution_count": 17,
   "metadata": {
    "collapsed": true
   },
   "outputs": [],
   "source": [
    "def sumary_perf(label,pred,name=\"dataset\"):\n",
    "    cmatrix = confusion_matrix(label,pred,labels=[0,1])\n",
    "    return pd.Series({\n",
    "        \"Accuracy\": sklearn.metrics.accuracy_score(label,pred, normalize=True),\n",
    "        \"Precision\":cmatrix[1][1]/float(cmatrix[1][1]+cmatrix[0][1]),\n",
    "        \"Recall\":cmatrix[1][1]/float(cmatrix[1][1]+cmatrix[1][0]),\n",
    "        \"True negative\": cmatrix[0][0]/float(len(label)),\n",
    "        \"True positive\": cmatrix[1][1]/float(len(label)),\n",
    "        \"False negative\": cmatrix[1][0]/float(len(label)),\n",
    "        \"False positive\": cmatrix[0][1]/float(len(label))\n",
    "    },name=name\n",
    ")  "
   ]
  },
  {
   "cell_type": "markdown",
   "metadata": {},
   "source": [
    "### 4.2 Decision trees"
   ]
  },
  {
   "cell_type": "code",
   "execution_count": 18,
   "metadata": {
    "collapsed": true
   },
   "outputs": [],
   "source": [
    "param_grid = {'max_depth': range(1,10),\"max_leaf_nodes\":[5,10,30,50,100,150,200,250]}\n",
    "dectree = GridSearchCV(tree.DecisionTreeClassifier(class_weight='balanced'), param_grid,cv=5)"
   ]
  },
  {
   "cell_type": "markdown",
   "metadata": {},
   "source": [
    "### 4.2.1 Decision tree 0: number of blight-violations\n",
    "\n",
    "This model takes only the number of local blight violations as input.\n",
    "As we see we obtain an accuracy higher than 50% but the test accuracy at 63% is larger that the train accuracy at 61.6%. This means that the test sample is not large enough to enable us to estimate the true accuracy."
   ]
  },
  {
   "cell_type": "code",
   "execution_count": 19,
   "metadata": {},
   "outputs": [
    {
     "data": {
      "text/html": [
       "<div>\n",
       "<style>\n",
       "    .dataframe thead tr:only-child th {\n",
       "        text-align: right;\n",
       "    }\n",
       "\n",
       "    .dataframe thead th {\n",
       "        text-align: left;\n",
       "    }\n",
       "\n",
       "    .dataframe tbody tr th {\n",
       "        vertical-align: top;\n",
       "    }\n",
       "</style>\n",
       "<table border=\"1\" class=\"dataframe\">\n",
       "  <thead>\n",
       "    <tr style=\"text-align: right;\">\n",
       "      <th></th>\n",
       "      <th>Accuracy</th>\n",
       "      <th>False negative</th>\n",
       "      <th>False positive</th>\n",
       "      <th>Precision</th>\n",
       "      <th>Recall</th>\n",
       "      <th>True negative</th>\n",
       "      <th>True positive</th>\n",
       "    </tr>\n",
       "  </thead>\n",
       "  <tbody>\n",
       "    <tr>\n",
       "      <th>Train</th>\n",
       "      <td>0.615881</td>\n",
       "      <td>0.144322</td>\n",
       "      <td>0.239797</td>\n",
       "      <td>0.597301</td>\n",
       "      <td>0.711355</td>\n",
       "      <td>0.260203</td>\n",
       "      <td>0.355678</td>\n",
       "    </tr>\n",
       "    <tr>\n",
       "      <th>Test</th>\n",
       "      <td>0.629876</td>\n",
       "      <td>0.128631</td>\n",
       "      <td>0.241494</td>\n",
       "      <td>0.605958</td>\n",
       "      <td>0.742739</td>\n",
       "      <td>0.258506</td>\n",
       "      <td>0.371369</td>\n",
       "    </tr>\n",
       "  </tbody>\n",
       "</table>\n",
       "</div>"
      ],
      "text/plain": [
       "       Accuracy  False negative  False positive  Precision    Recall  \\\n",
       "Train  0.615881        0.144322        0.239797   0.597301  0.711355   \n",
       "Test   0.629876        0.128631        0.241494   0.605958  0.742739   \n",
       "\n",
       "       True negative  True positive  \n",
       "Train       0.260203       0.355678  \n",
       "Test        0.258506       0.371369  "
      ]
     },
     "execution_count": 19,
     "metadata": {},
     "output_type": "execute_result"
    }
   ],
   "source": [
    "tree_0 = dectree.fit(train0,train_label)\n",
    "train_pred0 = tree_0.predict(train0)\n",
    "test_pred0 = tree_0.predict(test0)\n",
    "perf_tree0 = pd.DataFrame()\n",
    "perf_tree0 = perf_tree0.append(sumary_perf(train_label,train_pred0,name=\"Train\"))\n",
    "perf_tree0 = perf_tree0.append(sumary_perf(test_label,test_pred0,name=\"Test\"))\n",
    "perf_tree0"
   ]
  },
  {
   "cell_type": "markdown",
   "metadata": {},
   "source": [
    "### 4.2.2 Decision tree 1: blight-violation amounts\n",
    "\n",
    "By using the different blight violation amounts instead of the number of violations. We find that a decision tree performs better on the blight dataset. We obtain 62.9% accuracy on the train set and a more logical 62.7% accuracy on the test set."
   ]
  },
  {
   "cell_type": "code",
   "execution_count": 20,
   "metadata": {},
   "outputs": [
    {
     "data": {
      "text/html": [
       "<div>\n",
       "<style>\n",
       "    .dataframe thead tr:only-child th {\n",
       "        text-align: right;\n",
       "    }\n",
       "\n",
       "    .dataframe thead th {\n",
       "        text-align: left;\n",
       "    }\n",
       "\n",
       "    .dataframe tbody tr th {\n",
       "        vertical-align: top;\n",
       "    }\n",
       "</style>\n",
       "<table border=\"1\" class=\"dataframe\">\n",
       "  <thead>\n",
       "    <tr style=\"text-align: right;\">\n",
       "      <th></th>\n",
       "      <th>Accuracy</th>\n",
       "      <th>False negative</th>\n",
       "      <th>False positive</th>\n",
       "      <th>Precision</th>\n",
       "      <th>Recall</th>\n",
       "      <th>True negative</th>\n",
       "      <th>True positive</th>\n",
       "    </tr>\n",
       "  </thead>\n",
       "  <tbody>\n",
       "    <tr>\n",
       "      <th>Train</th>\n",
       "      <td>0.629203</td>\n",
       "      <td>0.158490</td>\n",
       "      <td>0.212307</td>\n",
       "      <td>0.616648</td>\n",
       "      <td>0.683020</td>\n",
       "      <td>0.287693</td>\n",
       "      <td>0.341510</td>\n",
       "    </tr>\n",
       "    <tr>\n",
       "      <th>Test</th>\n",
       "      <td>0.627386</td>\n",
       "      <td>0.162241</td>\n",
       "      <td>0.210373</td>\n",
       "      <td>0.616200</td>\n",
       "      <td>0.675519</td>\n",
       "      <td>0.289627</td>\n",
       "      <td>0.337759</td>\n",
       "    </tr>\n",
       "  </tbody>\n",
       "</table>\n",
       "</div>"
      ],
      "text/plain": [
       "       Accuracy  False negative  False positive  Precision    Recall  \\\n",
       "Train  0.629203        0.158490        0.212307   0.616648  0.683020   \n",
       "Test   0.627386        0.162241        0.210373   0.616200  0.675519   \n",
       "\n",
       "       True negative  True positive  \n",
       "Train       0.287693       0.341510  \n",
       "Test        0.289627       0.337759  "
      ]
     },
     "execution_count": 20,
     "metadata": {},
     "output_type": "execute_result"
    }
   ],
   "source": [
    "tree_1 = dectree.fit(train1,train_label)\n",
    "train_pred1 = tree_1.predict(train1)\n",
    "test_pred1 = tree_1.predict(test1)\n",
    "perf_tree1 = pd.DataFrame()\n",
    "perf_tree1 = perf_tree1.append(sumary_perf(train_label,train_pred1,name=\"Train\"))\n",
    "perf_tree1 = perf_tree1.append(sumary_perf(test_label,test_pred1,name=\"Test\"))\n",
    "perf_tree1"
   ]
  },
  {
   "cell_type": "markdown",
   "metadata": {},
   "source": [
    "### 4.2.3 Decision tree 2: number of 311 calls and crime incidents\n",
    "\n",
    "In this model, we do not use the blight incident at all, but simply number of local 311 calls and local crime incidets. This model was used to tune the number of grid cells to use for defining \"local\". With 15 cell of 100 feet, we find a 58.2% accuracy on the train set but 54.3% on the test set. This implies that on top of bias issues, this model suffers from variance issues and overfits."
   ]
  },
  {
   "cell_type": "code",
   "execution_count": 21,
   "metadata": {},
   "outputs": [
    {
     "data": {
      "text/html": [
       "<div>\n",
       "<style>\n",
       "    .dataframe thead tr:only-child th {\n",
       "        text-align: right;\n",
       "    }\n",
       "\n",
       "    .dataframe thead th {\n",
       "        text-align: left;\n",
       "    }\n",
       "\n",
       "    .dataframe tbody tr th {\n",
       "        vertical-align: top;\n",
       "    }\n",
       "</style>\n",
       "<table border=\"1\" class=\"dataframe\">\n",
       "  <thead>\n",
       "    <tr style=\"text-align: right;\">\n",
       "      <th></th>\n",
       "      <th>Accuracy</th>\n",
       "      <th>False negative</th>\n",
       "      <th>False positive</th>\n",
       "      <th>Precision</th>\n",
       "      <th>Recall</th>\n",
       "      <th>True negative</th>\n",
       "      <th>True positive</th>\n",
       "    </tr>\n",
       "  </thead>\n",
       "  <tbody>\n",
       "    <tr>\n",
       "      <th>Train</th>\n",
       "      <td>0.581941</td>\n",
       "      <td>0.211778</td>\n",
       "      <td>0.206280</td>\n",
       "      <td>0.582852</td>\n",
       "      <td>0.576443</td>\n",
       "      <td>0.293720</td>\n",
       "      <td>0.288222</td>\n",
       "    </tr>\n",
       "    <tr>\n",
       "      <th>Test</th>\n",
       "      <td>0.543154</td>\n",
       "      <td>0.233195</td>\n",
       "      <td>0.223651</td>\n",
       "      <td>0.543993</td>\n",
       "      <td>0.533610</td>\n",
       "      <td>0.276349</td>\n",
       "      <td>0.266805</td>\n",
       "    </tr>\n",
       "  </tbody>\n",
       "</table>\n",
       "</div>"
      ],
      "text/plain": [
       "       Accuracy  False negative  False positive  Precision    Recall  \\\n",
       "Train  0.581941        0.211778        0.206280   0.582852  0.576443   \n",
       "Test   0.543154        0.233195        0.223651   0.543993  0.533610   \n",
       "\n",
       "       True negative  True positive  \n",
       "Train       0.293720       0.288222  \n",
       "Test        0.276349       0.266805  "
      ]
     },
     "execution_count": 21,
     "metadata": {},
     "output_type": "execute_result"
    }
   ],
   "source": [
    "tree_2 = dectree.fit(train2,train_label)\n",
    "train_pred2 = tree_2.predict(train2)\n",
    "test_pred2 = tree_2.predict(test2)\n",
    "perf_tree2 = pd.DataFrame()\n",
    "perf_tree2 = perf_tree2.append(sumary_perf(train_label,train_pred2,name=\"Train\"))\n",
    "perf_tree2 = perf_tree2.append(sumary_perf(test_label,test_pred2,name=\"Test\"))\n",
    "perf_tree2"
   ]
  },
  {
   "cell_type": "markdown",
   "metadata": {},
   "source": [
    "### 4.2.5 Decision tree 3: number of blight violations, 311 calls and crimes \n",
    "\n",
    "Combining all types of incidents by using the number of local blight violations, 311 calls and local crime incidents, leads to a train accuracy of 63.9% and a test accuracy of 62.9%. This is only slightly better than Model 1 based on the blight violation amount."
   ]
  },
  {
   "cell_type": "code",
   "execution_count": 22,
   "metadata": {},
   "outputs": [
    {
     "data": {
      "text/html": [
       "<div>\n",
       "<style>\n",
       "    .dataframe thead tr:only-child th {\n",
       "        text-align: right;\n",
       "    }\n",
       "\n",
       "    .dataframe thead th {\n",
       "        text-align: left;\n",
       "    }\n",
       "\n",
       "    .dataframe tbody tr th {\n",
       "        vertical-align: top;\n",
       "    }\n",
       "</style>\n",
       "<table border=\"1\" class=\"dataframe\">\n",
       "  <thead>\n",
       "    <tr style=\"text-align: right;\">\n",
       "      <th></th>\n",
       "      <th>Accuracy</th>\n",
       "      <th>False negative</th>\n",
       "      <th>False positive</th>\n",
       "      <th>Precision</th>\n",
       "      <th>Recall</th>\n",
       "      <th>True negative</th>\n",
       "      <th>True positive</th>\n",
       "    </tr>\n",
       "  </thead>\n",
       "  <tbody>\n",
       "    <tr>\n",
       "      <th>Train</th>\n",
       "      <td>0.639141</td>\n",
       "      <td>0.144217</td>\n",
       "      <td>0.216642</td>\n",
       "      <td>0.621537</td>\n",
       "      <td>0.711567</td>\n",
       "      <td>0.283358</td>\n",
       "      <td>0.355783</td>\n",
       "    </tr>\n",
       "    <tr>\n",
       "      <th>Test</th>\n",
       "      <td>0.628631</td>\n",
       "      <td>0.143154</td>\n",
       "      <td>0.228216</td>\n",
       "      <td>0.609929</td>\n",
       "      <td>0.713693</td>\n",
       "      <td>0.271784</td>\n",
       "      <td>0.356846</td>\n",
       "    </tr>\n",
       "  </tbody>\n",
       "</table>\n",
       "</div>"
      ],
      "text/plain": [
       "       Accuracy  False negative  False positive  Precision    Recall  \\\n",
       "Train  0.639141        0.144217        0.216642   0.621537  0.711567   \n",
       "Test   0.628631        0.143154        0.228216   0.609929  0.713693   \n",
       "\n",
       "       True negative  True positive  \n",
       "Train       0.283358       0.355783  \n",
       "Test        0.271784       0.356846  "
      ]
     },
     "execution_count": 22,
     "metadata": {},
     "output_type": "execute_result"
    }
   ],
   "source": [
    "tree_3 = dectree.fit(train3,train_label)\n",
    "train_pred3 = tree_3.predict(train3)\n",
    "test_pred3 = tree_3.predict(test3)\n",
    "perf_tree3 = pd.DataFrame()\n",
    "perf_tree3 = perf_tree3.append(sumary_perf(train_label,train_pred3,name=\"Train\"))\n",
    "perf_tree3 = perf_tree3.append(sumary_perf(test_label,test_pred3,name=\"Test\"))\n",
    "perf_tree3"
   ]
  },
  {
   "cell_type": "markdown",
   "metadata": {},
   "source": [
    "### 4.2.6 Decision tree 4: blgiht violation amounts, number of 311 calls and crimes\n",
    "\n",
    "Now combining the blight violations amounts and the number of local 311 complains and crimes, performs best for these decision trees with a train accuracy of 64.5% and a test accuracy of 63.2%"
   ]
  },
  {
   "cell_type": "code",
   "execution_count": 23,
   "metadata": {},
   "outputs": [
    {
     "data": {
      "text/html": [
       "<div>\n",
       "<style>\n",
       "    .dataframe thead tr:only-child th {\n",
       "        text-align: right;\n",
       "    }\n",
       "\n",
       "    .dataframe thead th {\n",
       "        text-align: left;\n",
       "    }\n",
       "\n",
       "    .dataframe tbody tr th {\n",
       "        vertical-align: top;\n",
       "    }\n",
       "</style>\n",
       "<table border=\"1\" class=\"dataframe\">\n",
       "  <thead>\n",
       "    <tr style=\"text-align: right;\">\n",
       "      <th></th>\n",
       "      <th>Accuracy</th>\n",
       "      <th>False negative</th>\n",
       "      <th>False positive</th>\n",
       "      <th>Precision</th>\n",
       "      <th>Recall</th>\n",
       "      <th>True negative</th>\n",
       "      <th>True positive</th>\n",
       "    </tr>\n",
       "  </thead>\n",
       "  <tbody>\n",
       "    <tr>\n",
       "      <th>Train</th>\n",
       "      <td>0.645062</td>\n",
       "      <td>0.196870</td>\n",
       "      <td>0.158067</td>\n",
       "      <td>0.657267</td>\n",
       "      <td>0.606259</td>\n",
       "      <td>0.341933</td>\n",
       "      <td>0.303130</td>\n",
       "    </tr>\n",
       "    <tr>\n",
       "      <th>Test</th>\n",
       "      <td>0.632365</td>\n",
       "      <td>0.204979</td>\n",
       "      <td>0.162656</td>\n",
       "      <td>0.644606</td>\n",
       "      <td>0.590041</td>\n",
       "      <td>0.337344</td>\n",
       "      <td>0.295021</td>\n",
       "    </tr>\n",
       "  </tbody>\n",
       "</table>\n",
       "</div>"
      ],
      "text/plain": [
       "       Accuracy  False negative  False positive  Precision    Recall  \\\n",
       "Train  0.645062        0.196870        0.158067   0.657267  0.606259   \n",
       "Test   0.632365        0.204979        0.162656   0.644606  0.590041   \n",
       "\n",
       "       True negative  True positive  \n",
       "Train       0.341933       0.303130  \n",
       "Test        0.337344       0.295021  "
      ]
     },
     "execution_count": 23,
     "metadata": {},
     "output_type": "execute_result"
    }
   ],
   "source": [
    "tree_4 = dectree.fit(train4,train_label)\n",
    "train_pred4 = tree_4.predict(train4)\n",
    "test_pred4 = tree_4.predict(test4)\n",
    "perf_tree4 = pd.DataFrame()\n",
    "perf_tree4 = perf_tree4.append(sumary_perf(train_label,train_pred4,name=\"Train\"))\n",
    "perf_tree4 = perf_tree4.append(sumary_perf(test_label,test_pred4,name=\"Test\"))\n",
    "perf_tree4"
   ]
  },
  {
   "cell_type": "markdown",
   "metadata": {},
   "source": [
    "## 4.3 Boosted decision trees\n",
    "\n",
    "We now try boosted model. These types of models consists on combining multiple week models in order to improve accuracy.\n",
    "\n",
    "* **Majority vote** : We first try on our first 3 decision trees to experiement \n",
    "* **Random Forest** : We use Random Forest to build our boosted model."
   ]
  },
  {
   "cell_type": "markdown",
   "metadata": {},
   "source": [
    "### 4.3.1 Majority vote: Decision trees 0, 1 and 2\n",
    "\n",
    "With this model we try a majority vote scheme on our first 3 decision trees. Combing all these trees amount to use all features we created. We find the best performance yet with a train accuracy of 63.5% and a test accuracy of 63.5%."
   ]
  },
  {
   "cell_type": "code",
   "execution_count": 24,
   "metadata": {},
   "outputs": [
    {
     "data": {
      "text/html": [
       "<div>\n",
       "<style>\n",
       "    .dataframe thead tr:only-child th {\n",
       "        text-align: right;\n",
       "    }\n",
       "\n",
       "    .dataframe thead th {\n",
       "        text-align: left;\n",
       "    }\n",
       "\n",
       "    .dataframe tbody tr th {\n",
       "        vertical-align: top;\n",
       "    }\n",
       "</style>\n",
       "<table border=\"1\" class=\"dataframe\">\n",
       "  <thead>\n",
       "    <tr style=\"text-align: right;\">\n",
       "      <th></th>\n",
       "      <th>Accuracy</th>\n",
       "      <th>False negative</th>\n",
       "      <th>False positive</th>\n",
       "      <th>Precision</th>\n",
       "      <th>Recall</th>\n",
       "      <th>True negative</th>\n",
       "      <th>True positive</th>\n",
       "    </tr>\n",
       "  </thead>\n",
       "  <tbody>\n",
       "    <tr>\n",
       "      <th>Train</th>\n",
       "      <td>0.635335</td>\n",
       "      <td>0.147071</td>\n",
       "      <td>0.217594</td>\n",
       "      <td>0.618606</td>\n",
       "      <td>0.705857</td>\n",
       "      <td>0.282406</td>\n",
       "      <td>0.352929</td>\n",
       "    </tr>\n",
       "    <tr>\n",
       "      <th>Test</th>\n",
       "      <td>0.635270</td>\n",
       "      <td>0.143154</td>\n",
       "      <td>0.221577</td>\n",
       "      <td>0.616930</td>\n",
       "      <td>0.713693</td>\n",
       "      <td>0.278423</td>\n",
       "      <td>0.356846</td>\n",
       "    </tr>\n",
       "  </tbody>\n",
       "</table>\n",
       "</div>"
      ],
      "text/plain": [
       "       Accuracy  False negative  False positive  Precision    Recall  \\\n",
       "Train  0.635335        0.147071        0.217594   0.618606  0.705857   \n",
       "Test   0.635270        0.143154        0.221577   0.616930  0.713693   \n",
       "\n",
       "       True negative  True positive  \n",
       "Train       0.282406       0.352929  \n",
       "Test        0.278423       0.356846  "
      ]
     },
     "execution_count": 24,
     "metadata": {},
     "output_type": "execute_result"
    }
   ],
   "source": [
    "train_boost = map(int,train_pred0+train_pred1+train_pred2>1)\n",
    "test_boost = map(int,test_pred0+test_pred1+test_pred2>1)\n",
    "perf_boost = pd.DataFrame()\n",
    "perf_boost = perf_boost.append(sumary_perf(train_label,train_boost,name=\"Train\"))\n",
    "perf_boost = perf_boost.append(sumary_perf(test_label,test_boost,name=\"Test\"))\n",
    "perf_boost"
   ]
  },
  {
   "cell_type": "markdown",
   "metadata": {},
   "source": [
    "### 4.3.2 Random forest\n",
    "\n",
    "Given the fact that bossted models indead imporve accuracy by combining all features, we go further by applying the classic Random forest method on the problem. We obtain a train accuracy of 64.5% and a test accuracy of 64%."
   ]
  },
  {
   "cell_type": "code",
   "execution_count": 25,
   "metadata": {},
   "outputs": [],
   "source": [
    "param_grid = {\n",
    "    'max_depth': range(1,5,1),\n",
    "    \"max_leaf_nodes\":range(50,300,50),\n",
    "    \"n_estimators\":[500]}\n",
    "rftree = GridSearchCV(RandomForestClassifier(class_weight='balanced'), param_grid,cv=5)"
   ]
  },
  {
   "cell_type": "code",
   "execution_count": 26,
   "metadata": {},
   "outputs": [
    {
     "data": {
      "text/html": [
       "<div>\n",
       "<style>\n",
       "    .dataframe thead tr:only-child th {\n",
       "        text-align: right;\n",
       "    }\n",
       "\n",
       "    .dataframe thead th {\n",
       "        text-align: left;\n",
       "    }\n",
       "\n",
       "    .dataframe tbody tr th {\n",
       "        vertical-align: top;\n",
       "    }\n",
       "</style>\n",
       "<table border=\"1\" class=\"dataframe\">\n",
       "  <thead>\n",
       "    <tr style=\"text-align: right;\">\n",
       "      <th></th>\n",
       "      <th>Accuracy</th>\n",
       "      <th>False negative</th>\n",
       "      <th>False positive</th>\n",
       "      <th>Precision</th>\n",
       "      <th>Recall</th>\n",
       "      <th>True negative</th>\n",
       "      <th>True positive</th>\n",
       "    </tr>\n",
       "  </thead>\n",
       "  <tbody>\n",
       "    <tr>\n",
       "      <th>Train</th>\n",
       "      <td>0.644957</td>\n",
       "      <td>0.144957</td>\n",
       "      <td>0.210087</td>\n",
       "      <td>0.628251</td>\n",
       "      <td>0.710087</td>\n",
       "      <td>0.289913</td>\n",
       "      <td>0.355043</td>\n",
       "    </tr>\n",
       "    <tr>\n",
       "      <th>Test</th>\n",
       "      <td>0.640249</td>\n",
       "      <td>0.148963</td>\n",
       "      <td>0.210788</td>\n",
       "      <td>0.624815</td>\n",
       "      <td>0.702075</td>\n",
       "      <td>0.289212</td>\n",
       "      <td>0.351037</td>\n",
       "    </tr>\n",
       "  </tbody>\n",
       "</table>\n",
       "</div>"
      ],
      "text/plain": [
       "       Accuracy  False negative  False positive  Precision    Recall  \\\n",
       "Train  0.644957        0.144957        0.210087   0.628251  0.710087   \n",
       "Test   0.640249        0.148963        0.210788   0.624815  0.702075   \n",
       "\n",
       "       True negative  True positive  \n",
       "Train       0.289913       0.355043  \n",
       "Test        0.289212       0.351037  "
      ]
     },
     "execution_count": 26,
     "metadata": {},
     "output_type": "execute_result"
    }
   ],
   "source": [
    "rf = rftree.fit(train5,train_label)\n",
    "train_rf = rf.predict(train5)\n",
    "test_rf = rf.predict(test5)\n",
    "perf_rf = pd.DataFrame()\n",
    "perf_rf = perf_rf.append(sumary_perf(train_label.ravel(),train_rf,name=\"Train\"))\n",
    "perf_rf = perf_rf.append(sumary_perf(test_label.ravel(),test_rf,name=\"Test\"))\n",
    "perf_rf"
   ]
  },
  {
   "cell_type": "markdown",
   "metadata": {},
   "source": [
    "### 4.4 Model comparison: Precision and Recall\n",
    "\n",
    "We finally compare each models against one another by displaying their positions in the Precision Recall Plane.\n",
    "* As the legend indicates, each model is represented with a different color as a filled circle whose size represent accuracy.\n",
    "* We show results of both train and test set with an arrow highting the direction the model takes when generalizing from the train set to the test set. "
   ]
  },
  {
   "cell_type": "code",
   "execution_count": 27,
   "metadata": {},
   "outputs": [
    {
     "data": {
      "image/png": "[encoded data removed]",
      "text/plain": [
       "<matplotlib.figure.Figure at 0x1a1f9be590>"
      ]
     },
     "metadata": {},
     "output_type": "display_data"
    }
   ],
   "source": [
    "df_list = [perf_tree0,perf_tree1,perf_tree2,perf_tree3,perf_tree4,perf_boost,perf_rf]\n",
    "labels  = [\"Decison Tree 0\",\"Decison Tree 1\",\"Decison Tree 2\",\"Decison Tree 3\",\"Decison Tree 4\"\n",
    "           ,\"Majority vote\",\"Random Forest\"]\n",
    "sc_acc = lambda x: (x-0.5)/0.15e-2\n",
    "cols = plt.get_cmap('Dark2')\n",
    "plt.figure(figsize=(8,4))\n",
    "ax = plt.subplot(111)\n",
    "for im in range(len(df_list)):\n",
    "    df = df_list[im]\n",
    "    size = map(sc_acc,df.Accuracy)\n",
    "    y0 = df.Precision[\"Train\"]\n",
    "    y1 = df.Precision[\"Test\"]\n",
    "    x0 = df.Recall[\"Train\"]\n",
    "    x1 = df.Recall[\"Test\"]\n",
    "    df.plot.scatter(x=\"Recall\",y=\"Precision\",s=size,alpha=0.5,color=cols(im),label=labels[im],ax=ax)\n",
    "    plt.quiver(x0, y0, x1-x0, y1-y0, scale_units='xy', angles='xy', scale=1,color=cols(im))\n",
    "xy = plt.axis('equal')"
   ]
  },
  {
   "cell_type": "markdown",
   "metadata": {},
   "source": [
    "We clearly see 2 clear outliers amoung the models:\n",
    "* Decision Tree 2, with poor result in accuracy, precision and recall. It is expected since it is the only model ngelecting blight incidents.\n",
    "* Decision Tree 4, which has the highest precision, but fairs quite badly in term of Recall. \n",
    "\n",
    "As for other models:\n",
    "* Decision Tree 0 increases in both Precision and Recall as we move from the train set to the test set. As this should not occur, we tend to believe the result form the test set to ba relevant.\n",
    "* Decision Tree 3 (all incidents counts), majority vote and Random forest are quite tighlty clustered together.\n",
    "* Decision Tree 1 (blight amounts only) stand out with lower Recall than the tight cluster. "
   ]
  },
  {
   "cell_type": "markdown",
   "metadata": {},
   "source": [
    "## 5 Conclusions\n",
    "\n",
    "Within a previous notebook [Github repository: Preprocessing](https://github.com/BreizhZut/CourseraDataAtScaleCapStone_Predicting_blight_in_Detroit/blob/master/Capstone_preprocessing.ipynb), we prepared two datasets for which we labelled whether or not demolition permit were issued, and processed datasets listing blight-violations, 311 complains and crimes. We added multiple features to the labelled datasets prior to test their pertinance with several decision trees. We have found that\n",
    "\n",
    "* using the blight violation amounts in place of the number of incidents is more relevant in simple models. \n",
    "* the number of crimes and 311 incidents do not provide good results on their own given the it is require to aggregate them at scale quite large compared to the building. But adding these features to the blight violation amounts leads good results in decisions trees especially in term of precision but at the expense of recall.\n",
    "* boosted models combining all features can help reach an accuracy close to 64%.\n",
    "\n",
    "Several aspect could help improve predictability of blight\n",
    "\n",
    "* By associating the parcel id from the parcel dataset to the demolition and blight dataset could extremely improve the quality of the data, by insuring that these seperate datasets could be combined with good accuracy and completeness\n",
    "* For the purpose of this project we use the same number of demolished building than non demolished ones. Beside the fact that due to the quality of the data, some fraction of the data set may have been mislabeled, date augmentation by adding a larger number of non demolished building may be more relevant to the problem at hand and help improve the accuracy of the models.\n",
    "* Several extra features could certianly have been added, certainly by extracting more features from the crime and 311 incidents dataset, for exemples counting these incidents by categories pooled by multiple features. Most certainly the parcels dataset we hardly exploited, contains valuable informations that should be added to the models."
   ]
  }
 ],
 "metadata": {
  "kernelspec": {
   "display_name": "Python 2",
   "language": "python",
   "name": "python2"
  },
  "language_info": {
   "codemirror_mode": {
    "name": "ipython",
    "version": 2
   },
   "file_extension": ".py",
   "mimetype": "text/x-python",
   "name": "python",
   "nbconvert_exporter": "python",
   "pygments_lexer": "ipython2",
   "version": "2.7.14"
  }
 },
 "nbformat": 4,
 "nbformat_minor": 2
}
