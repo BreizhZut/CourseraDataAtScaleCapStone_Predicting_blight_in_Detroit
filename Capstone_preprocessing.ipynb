{
 "cells": [
  {
   "cell_type": "markdown",
   "metadata": {},
   "source": [
    "# Data At Scale: Capstone Project -- Milestone report\n",
    "## Processing blight data in the city of Detroit, MI\n",
    "\n",
    "## 1 Executive Summary\n",
    "\n",
    "This project is part of the [Coursera Data Science at Scale Specialization](https://www.coursera.org/specializations/data-science) proposed by University of Washington and taught by Bill Howe. \n",
    "The objective of this assignment is to analyse various data source collected by the city of Detroit in order to build a model that could predict whether a building is likely to be blighted. The data was provided in  [datasci-capstone/get-the-data](https://www.coursera.org/learn/datasci-capstone/supplement/D44tm/get-the-data). \n",
    "Alternatively The data is available on the [Data At Scale Github repository: Capstone](https://github.com/uwescience/datasci_course_materials/tree/master/capstone/blight).\n",
    "\n",
    "This notebook describe data selection and processing of the original files\n",
    "The original data consists on:\n",
    "\n",
    "* [detroit-blight-violations.csv](https://d3c33hcgiwev3.cloudfront.net/_97bd1c1e5df9537bb13398c9898deed7_detroit-blight-violations.csv?Expires=1525305600&Signature=eFD51fReW6lMTqFcCeDbQ1kgqi8sYAwZP7vMgVhsOOlv2QDrs61mX1tIBwdaqjaCVezWE30qjVPBzimiEafX2itPJiEPovHCzlOWMvnPe8x5RIeS-SbU0yPbG6~AHF7Cb0XITaoKlVmnMIAtiLstPqOOYfdhjUILu5~1dRNu8SE_&Key-Pair-Id=APKAJLTNE6QMUY6HBC5A) Contianing a list of blight violations from which we constitute a list of buidlings\n",
    "* [detroit-demolition-permits.tsv](https://d3c33hcgiwev3.cloudfront.net/_dcebfb2135a2bf5a6392493bd61aba22_detroit-demolition-permits.tsv?Expires=1525305600&Signature=f1GJGdUQshH1-g6GhDS-yUETWwkRis45gX9L85AGoXEuDHSzEhfdXWdo~tEbD~XHSXeRMNrgogVy-EYmO8t~7nfTnYt96LAcNxe73BTgvGdBDO~LdvA222Z9zs0sRxZAifSPbXnsW9jbxlDaqdnZNvc~zOkWxCN9aYQ2sBFujYQ_&Key-Pair-Id=APKAJLTNE6QMUY6HBC5A) Contains a list of buildings for which demolition permits have been issues. We use that file to define the labels of our building, e.g. whether a building from the blight-violation dataset is blighted or not.\n",
    "* [detroit-311.csv](https://d3c33hcgiwev3.cloudfront.net/_dcebfb2135a2bf5a6392493bd61aba22_detroit-311.csv?Expires=1525305600&Signature=al11Hk1qn7CACblYpryhkWbcoHm6dXQkRw~Mu7y6ONBEDy0rdQIjLHvwN8IqOsV6OFNOudDrinXBEz-m5Q9A2GZrvR0~bbnuZbsFd7y7eQTv~o-NazxOfLPwRUwViGCxSxcQhwBTiV0VjySP4fgExZwFX2xVwQqInjrKQYHs8iM_&Key-Pair-Id=APKAJLTNE6QMUY6HBC5A)\n",
    "* [detroit-crime.csv](https://d3c33hcgiwev3.cloudfront.net/_dcebfb2135a2bf5a6392493bd61aba22_detroit-crime.csv?Expires=1525305600&Signature=N0vg~4Jgqn6b-w-UEAQ3q0v3EbzgM9akDsHbn2o54WCdzh0Zzw~yJrcoBTHzkpBu0b3e4IiEFHUdKgVjryQRumLznIbaqEe146IC7FJqq8QqYWHVLcfquK9f3IXfCzoSNGeXGPWgT2l0BbzwAR6hxHeKxAxrXEajM7YWNwwIL7U_&Key-Pair-Id=APKAJLTNE6QMUY6HBC5A)\n",
    "* To which we added [Parcel_Points_Ownership.csv](https://data.detroitmi.gov/Property-Parcels/Parcel-Points-Ownership/dxgi-9s8s) made publically available by the city of Detroit. \n",
    "\n",
    "For the first 4 dataset, we build processed versions as\n",
    "* *blight_demolition.csv* corresponding to a set of demolished buildings. We used the [Detroit Parcel Point API](https://data.detroitmi.gov/resource/snut-x2sy) to correct the gps coordinates\n",
    "* *blignt_incidents_count.csv*, also we recaptured gps coordinates with [Detroit Parcel Point API](https://data.detroitmi.gov/resource/snut-x2sy) and with the incident count and amounts associated to blight violation per unique set of addresses\n",
    "* *c311_incident_count.csv* corresponding to the number of 311 calls associated to unique sets of gps coordinates limited to the city area\n",
    "* *crime_incident_count.csv* corresponding to the number of crimes reported per unique sets of gps coordinates limited to the city area\n",
    "\n",
    "We also prepared a train set *train_set.csv* and a test set *test_set.csv* with respectivelly 9458 and 2410 uniques sets of gps coordinates with associated demolished and not demolished label. The instance of demolished buildings location taken from *blight_demolition.csv* with an equal number of non-demolished locations extracted from *Parcel_Points_Ownership.csv*"
   ]
  },
  {
   "cell_type": "markdown",
   "metadata": {},
   "source": [
    "## 2 Preparation\n",
    "\n",
    "### 2.1 Necessary modules"
   ]
  },
  {
   "cell_type": "code",
   "execution_count": 1,
   "metadata": {
    "collapsed": true
   },
   "outputs": [],
   "source": [
    "# use this for incorporating figure in the notebook\n",
    "%matplotlib inline              \n",
    "import matplotlib.pyplot as plt # for vizualisation\n",
    "import os                       # file system utilities\n",
    "import json                     # json library to export grid setup\n",
    "import re                       # regular expression\n",
    "import time                     # for mesuring CPU time\n",
    "import pandas as pd             # data processing\n",
    "from datetime import datetime   # for treating dates\n",
    "import geopy.distance           # gps cooridnate convertion\n",
    "from collections import Counter # usefull function"
   ]
  },
  {
   "cell_type": "markdown",
   "metadata": {},
   "source": [
    "### 2.2 Listing input files"
   ]
  },
  {
   "cell_type": "code",
   "execution_count": 2,
   "metadata": {},
   "outputs": [
    {
     "name": "stdout",
     "output_type": "stream",
     "text": [
      "Parcel_Points_Ownership.csv :  Data/Parcel_Points_Ownership.csv\n",
      "detroit-crime.csv :  Data/_dcebfb2135a2bf5a6392493bd61aba22_detroit-crime.csv\n",
      "detroit-demolition-permits.tsv :  Data/_dcebfb2135a2bf5a6392493bd61aba22_detroit-demolition-permits.tsv\n",
      "detroit-311.csv :  Data/_dcebfb2135a2bf5a6392493bd61aba22_detroit-311.csv\n",
      "detroit-blight-violations.csv :  Data/_97bd1c1e5df9537bb13398c9898deed7_detroit-blight-violations.csv\n"
     ]
    }
   ],
   "source": [
    "# Use this variable to define the path to the data\n",
    "data_path = \"Data\"+os.sep\n",
    "processed_path = \"Processed\"+os.sep\n",
    "# Extrqct the list of files\n",
    "listfiles = os.listdir(data_path)\n",
    "# Build a function to remove the SHA ney\n",
    "file_key = lambda strinp: re.sub(\"_[a-f0-9]{1,}_\",\"\",strinp)\n",
    "# Build the file dictionnary\n",
    "dic_inp = {}\n",
    "for finp in listfiles:\n",
    "    dic_inp[file_key(finp)]=data_path+finp\n",
    "# clean up\n",
    "del listfiles\n",
    "for k,v in dic_inp.items():\n",
    "    print k,\": \",v"
   ]
  },
  {
   "cell_type": "markdown",
   "metadata": {},
   "source": [
    "## 3 Processing data\n",
    "\n",
    "### 3.1 Defining city boundaries\n",
    "\n",
    "We set the city boundaries to be within the following range\n",
    "* Latitude between 42.25 and 42.45\n",
    "* Longitude between -83.30 and -82.90"
   ]
  },
  {
   "cell_type": "code",
   "execution_count": 3,
   "metadata": {
    "collapsed": true
   },
   "outputs": [],
   "source": [
    "# Set city boundariies in lngitudes and lattitude coordinate\n",
    "gps_box = {\n",
    "    \"lat\":[42.25,42.45],\n",
    "    \"long\":[-83.30,-82.90]\n",
    "}\n",
    "# Mesure carteian size\n",
    "gps_box[\"Dx\"] = geopy.distance.vincenty(gps_box[\"long\"][1],gps_box[\"long\"][0]).m\n",
    "gps_box[\"Dy\"] = geopy.distance.vincenty(gps_box[\"lat\"][1],gps_box[\"lat\"][0]).m"
   ]
  },
  {
   "cell_type": "markdown",
   "metadata": {},
   "source": [
    "We further build an helper function to check for select valid gps coordinate within this area"
   ]
  },
  {
   "cell_type": "code",
   "execution_count": 4,
   "metadata": {
    "collapsed": true
   },
   "outputs": [],
   "source": [
    "def within_area(gps_coords):\n",
    "    \"\"\"\n",
    "    read series with lat and long fields\n",
    "    returns True if coordinates are within box area\n",
    "    retruns False otherwise\n",
    "    \"\"\"\n",
    "    if any(gps_coords[[\"long\",\"lat\"]].isnull()):\n",
    "        return False\n",
    "    if gps_coords[\"long\"] < gps_box[\"long\"][0]:\n",
    "        return False\n",
    "    elif gps_coords[\"long\"] > gps_box[\"long\"][1]:\n",
    "        return False\n",
    "    if gps_coords[\"lat\"] < gps_box[\"lat\"][0]:\n",
    "        return False\n",
    "    elif gps_coords[\"lat\"] > gps_box[\"lat\"][1]:\n",
    "        return False\n",
    "    return True"
   ]
  },
  {
   "cell_type": "markdown",
   "metadata": {},
   "source": [
    "### 3.2 Demolition dataset"
   ]
  },
  {
   "cell_type": "code",
   "execution_count": 5,
   "metadata": {
    "collapsed": true
   },
   "outputs": [],
   "source": [
    "dem = pd.read_csv(dic_inp[\"detroit-demolition-permits.tsv\"],sep=\"\\t\")\n",
    "col_dem = {\n",
    "    \"SITE_ADDRESS\":\"address\",\n",
    "    \"PERMIT_ISSUED\":\"date\",\n",
    "    \"BLD_PERMIT_TYPE\":\"type\"\n",
    "}\n",
    "dem = dem.drop_duplicates(subset=\"PERMIT_NO\")[list(col_dem.keys())].rename(columns=col_dem)\n",
    "# this line is commented so as not to overwrite the processed file.\n",
    "# This should be uncommented to restart form scratch\n",
    "## dem.to_csv(processed_path+\"blight_demolition.csv\",index=False)"
   ]
  },
  {
   "cell_type": "markdown",
   "metadata": {},
   "source": [
    "We then use the API [Detroit city API](https://data.detroitmi.gov/resource/snut-x2sy) to find genuine gps coordinates for all addresses in this dataset. \n",
    "The code in available as *py3_scripts/spider_dem_gps.py*\n",
    "\n",
    "After this processing we obtain a file following this schema\n",
    "* **address**: address of the demolition site\n",
    "* **date**: date of issue of the demolition permit m/d/y\n",
    "* **type**: Takes value \"DISM\" or \"Dismantle\"\n",
    "* **long**: longitude \n",
    "* **lat**: latitude"
   ]
  },
  {
   "cell_type": "code",
   "execution_count": 6,
   "metadata": {},
   "outputs": [
    {
     "data": {
      "text/html": [
       "<div>\n",
       "<style>\n",
       "    .dataframe thead tr:only-child th {\n",
       "        text-align: right;\n",
       "    }\n",
       "\n",
       "    .dataframe thead th {\n",
       "        text-align: left;\n",
       "    }\n",
       "\n",
       "    .dataframe tbody tr th {\n",
       "        vertical-align: top;\n",
       "    }\n",
       "</style>\n",
       "<table border=\"1\" class=\"dataframe\">\n",
       "  <thead>\n",
       "    <tr style=\"text-align: right;\">\n",
       "      <th></th>\n",
       "      <th>address</th>\n",
       "      <th>date</th>\n",
       "      <th>type</th>\n",
       "      <th>lat</th>\n",
       "      <th>long</th>\n",
       "    </tr>\n",
       "  </thead>\n",
       "  <tbody>\n",
       "    <tr>\n",
       "      <th>0</th>\n",
       "      <td>4331  BARHAM</td>\n",
       "      <td>8/28/15</td>\n",
       "      <td>Dismantle</td>\n",
       "      <td>42.394008</td>\n",
       "      <td>-82.947587</td>\n",
       "    </tr>\n",
       "    <tr>\n",
       "      <th>1</th>\n",
       "      <td>9707  BESSEMORE</td>\n",
       "      <td>8/28/15</td>\n",
       "      <td>Dismantle</td>\n",
       "      <td>42.395303</td>\n",
       "      <td>-83.005067</td>\n",
       "    </tr>\n",
       "    <tr>\n",
       "      <th>2</th>\n",
       "      <td>5315  BERKSHIRE</td>\n",
       "      <td>8/28/15</td>\n",
       "      <td>Dismantle</td>\n",
       "      <td>42.403678</td>\n",
       "      <td>-82.946976</td>\n",
       "    </tr>\n",
       "    <tr>\n",
       "      <th>3</th>\n",
       "      <td>16670  BRINGARD DR</td>\n",
       "      <td>8/28/15</td>\n",
       "      <td>Dismantle</td>\n",
       "      <td>42.446371</td>\n",
       "      <td>-82.947196</td>\n",
       "    </tr>\n",
       "    <tr>\n",
       "      <th>4</th>\n",
       "      <td>1454  BEATRICE</td>\n",
       "      <td>8/28/15</td>\n",
       "      <td>Dismantle</td>\n",
       "      <td>42.277026</td>\n",
       "      <td>-83.147751</td>\n",
       "    </tr>\n",
       "  </tbody>\n",
       "</table>\n",
       "</div>"
      ],
      "text/plain": [
       "              address     date       type        lat       long\n",
       "0        4331  BARHAM  8/28/15  Dismantle  42.394008 -82.947587\n",
       "1     9707  BESSEMORE  8/28/15  Dismantle  42.395303 -83.005067\n",
       "2     5315  BERKSHIRE  8/28/15  Dismantle  42.403678 -82.946976\n",
       "3  16670  BRINGARD DR  8/28/15  Dismantle  42.446371 -82.947196\n",
       "4      1454  BEATRICE  8/28/15  Dismantle  42.277026 -83.147751"
      ]
     },
     "execution_count": 6,
     "metadata": {},
     "output_type": "execute_result"
    }
   ],
   "source": [
    "dem = pd.read_csv(processed_path+\"blight_demolition.csv\")\n",
    "dem.head()"
   ]
  },
  {
   "cell_type": "markdown",
   "metadata": {},
   "source": [
    "As we explore the type in relation with the date."
   ]
  },
  {
   "cell_type": "code",
   "execution_count": 7,
   "metadata": {
    "collapsed": true
   },
   "outputs": [],
   "source": [
    "# convert date from string to date\n",
    "dem[\"date\"] = dem.apply(lambda line: datetime.strptime(str(line['date']),\"%m/%d/%y\").date(),axis=1)"
   ]
  },
  {
   "cell_type": "code",
   "execution_count": 8,
   "metadata": {},
   "outputs": [
    {
     "data": {
      "text/html": [
       "<div>\n",
       "<style>\n",
       "    .dataframe thead tr:only-child th {\n",
       "        text-align: right;\n",
       "    }\n",
       "\n",
       "    .dataframe thead th {\n",
       "        text-align: left;\n",
       "    }\n",
       "\n",
       "    .dataframe tbody tr th {\n",
       "        vertical-align: top;\n",
       "    }\n",
       "</style>\n",
       "<table border=\"1\" class=\"dataframe\">\n",
       "  <thead>\n",
       "    <tr>\n",
       "      <th></th>\n",
       "      <th colspan=\"3\" halign=\"left\">date</th>\n",
       "    </tr>\n",
       "    <tr>\n",
       "      <th></th>\n",
       "      <th>min</th>\n",
       "      <th>max</th>\n",
       "      <th>count</th>\n",
       "    </tr>\n",
       "    <tr>\n",
       "      <th>type</th>\n",
       "      <th></th>\n",
       "      <th></th>\n",
       "      <th></th>\n",
       "    </tr>\n",
       "  </thead>\n",
       "  <tbody>\n",
       "    <tr>\n",
       "      <th>DISM</th>\n",
       "      <td>2010-05-20</td>\n",
       "      <td>2015-04-15</td>\n",
       "      <td>4729</td>\n",
       "    </tr>\n",
       "    <tr>\n",
       "      <th>Dismantle</th>\n",
       "      <td>2015-06-12</td>\n",
       "      <td>2015-08-28</td>\n",
       "      <td>1205</td>\n",
       "    </tr>\n",
       "  </tbody>\n",
       "</table>\n",
       "</div>"
      ],
      "text/plain": [
       "                 date                  \n",
       "                  min         max count\n",
       "type                                   \n",
       "DISM       2010-05-20  2015-04-15  4729\n",
       "Dismantle  2015-06-12  2015-08-28  1205"
      ]
     },
     "execution_count": 8,
     "metadata": {},
     "output_type": "execute_result"
    }
   ],
   "source": [
    "dem_in = dem.apply(within_area,axis=1)\n",
    "dem.loc[dem_in,[\"date\",\"type\"]].groupby(\"type\").agg([\"min\",\"max\",\"count\"])"
   ]
  },
  {
   "cell_type": "markdown",
   "metadata": {},
   "source": [
    "We find that type \"Dismantle\" correspond to building schedule for demolition starting june 2015. \n",
    "Within the area, we find 4729 buldings before june 2015 and 1205 from june 2015"
   ]
  },
  {
   "cell_type": "markdown",
   "metadata": {},
   "source": [
    "### 3.3 Blight violation dataset"
   ]
  },
  {
   "cell_type": "code",
   "execution_count": 9,
   "metadata": {},
   "outputs": [
    {
     "data": {
      "text/html": [
       "<div>\n",
       "<style>\n",
       "    .dataframe thead tr:only-child th {\n",
       "        text-align: right;\n",
       "    }\n",
       "\n",
       "    .dataframe thead th {\n",
       "        text-align: left;\n",
       "    }\n",
       "\n",
       "    .dataframe tbody tr th {\n",
       "        vertical-align: top;\n",
       "    }\n",
       "</style>\n",
       "<table border=\"1\" class=\"dataframe\">\n",
       "  <thead>\n",
       "    <tr style=\"text-align: right;\">\n",
       "      <th></th>\n",
       "      <th>ViolationStreetNumber</th>\n",
       "      <th>ViolationStreetName</th>\n",
       "      <th>PaymentStatus</th>\n",
       "      <th>AdminFee</th>\n",
       "      <th>LateFee</th>\n",
       "      <th>StateFee</th>\n",
       "      <th>CleanUpCost</th>\n",
       "      <th>JudgmentAmt</th>\n",
       "    </tr>\n",
       "  </thead>\n",
       "  <tbody>\n",
       "    <tr>\n",
       "      <th>0</th>\n",
       "      <td>2566</td>\n",
       "      <td>GRAND BLVD</td>\n",
       "      <td>PAID IN FULL</td>\n",
       "      <td>$20.00</td>\n",
       "      <td>$150.00</td>\n",
       "      <td>$10.00</td>\n",
       "      <td>$0.00</td>\n",
       "      <td>$1680.00</td>\n",
       "    </tr>\n",
       "    <tr>\n",
       "      <th>1</th>\n",
       "      <td>19014</td>\n",
       "      <td>ASHTON</td>\n",
       "      <td>NO PAYMENT APPLIED</td>\n",
       "      <td>$20.00</td>\n",
       "      <td>$10.00</td>\n",
       "      <td>$10.00</td>\n",
       "      <td>$0.00</td>\n",
       "      <td>$140.00</td>\n",
       "    </tr>\n",
       "    <tr>\n",
       "      <th>2</th>\n",
       "      <td>18735</td>\n",
       "      <td>STAHELIN</td>\n",
       "      <td>PAID IN FULL</td>\n",
       "      <td>$20.00</td>\n",
       "      <td>$10.00</td>\n",
       "      <td>$10.00</td>\n",
       "      <td>$0.00</td>\n",
       "      <td>$140.00</td>\n",
       "    </tr>\n",
       "    <tr>\n",
       "      <th>3</th>\n",
       "      <td>20125</td>\n",
       "      <td>MONICA</td>\n",
       "      <td>NO PAYMENT APPLIED</td>\n",
       "      <td>$20.00</td>\n",
       "      <td>$10.00</td>\n",
       "      <td>$10.00</td>\n",
       "      <td>$0.00</td>\n",
       "      <td>$140.00</td>\n",
       "    </tr>\n",
       "    <tr>\n",
       "      <th>4</th>\n",
       "      <td>17397</td>\n",
       "      <td>PRAIRIE</td>\n",
       "      <td>PAID IN FULL</td>\n",
       "      <td>$20.00</td>\n",
       "      <td>$10.00</td>\n",
       "      <td>$10.00</td>\n",
       "      <td>$0.00</td>\n",
       "      <td>$140.00</td>\n",
       "    </tr>\n",
       "  </tbody>\n",
       "</table>\n",
       "</div>"
      ],
      "text/plain": [
       "  ViolationStreetNumber ViolationStreetName       PaymentStatus AdminFee  \\\n",
       "0                  2566    GRAND BLVD              PAID IN FULL   $20.00   \n",
       "1                 19014    ASHTON            NO PAYMENT APPLIED   $20.00   \n",
       "2                 18735    STAHELIN                PAID IN FULL   $20.00   \n",
       "3                 20125    MONICA            NO PAYMENT APPLIED   $20.00   \n",
       "4                 17397    PRAIRIE                 PAID IN FULL   $20.00   \n",
       "\n",
       "   LateFee StateFee CleanUpCost JudgmentAmt  \n",
       "0  $150.00   $10.00       $0.00    $1680.00  \n",
       "1   $10.00   $10.00       $0.00     $140.00  \n",
       "2   $10.00   $10.00       $0.00     $140.00  \n",
       "3   $10.00   $10.00       $0.00     $140.00  \n",
       "4   $10.00   $10.00       $0.00     $140.00  "
      ]
     },
     "execution_count": 9,
     "metadata": {},
     "output_type": "execute_result"
    }
   ],
   "source": [
    "# Read the blight violation file to avoid a warning we read everything as strings\n",
    "dblight = pd.read_csv(dic_inp[\"detroit-blight-violations.csv\"],dtype=str)\n",
    "col_fees = ['AdminFee','LateFee','StateFee','CleanUpCost','JudgmentAmt']\n",
    "col_sel = [\"ViolationStreetNumber\",\"ViolationStreetName\",\"PaymentStatus\"]\n",
    "# as previously we remove all duplicates by ticketId keeping the last entry\n",
    "dblight = dblight.drop_duplicates(subset=\"TicketID\",keep='last')[col_sel+col_fees]\n",
    "dblight.head()"
   ]
  },
  {
   "cell_type": "markdown",
   "metadata": {},
   "source": [
    "The first task consists on \n",
    "* cleaning the data by converting the amount written as strings into flaots.\n",
    "* associating the ammount to the actual payment status as a new column"
   ]
  },
  {
   "cell_type": "code",
   "execution_count": 10,
   "metadata": {
    "collapsed": true
   },
   "outputs": [],
   "source": [
    "status = {\n",
    "    \"PAID IN FULL\":\"blight_paid\",\n",
    "    \"PARTIAL PAYMENT MADE\":\"blight_partial\",\n",
    "    \"NO PAYMENT APPLIED\":\"blight_notapplied\",\n",
    "    \"NO PAYMENT ON RECORD\":\"blight_nopaid\"\n",
    "}\n",
    "def read_amount(stramount):\n",
    "    \"\"\"\n",
    "    Read a string corresponding to an ammount in USD\n",
    "    returns a float\n",
    "    \"\"\"\n",
    "    amlist = re.findall(\"\\$*([0-9]+\\.{,1}[0-9]{0,2})\",str(stramount))\n",
    "    if len(amlist) ==0:\n",
    "        return 0.\n",
    "    else:\n",
    "        return float(amlist[0])\n",
    "def grab_payment(line):\n",
    "    \"\"\"\n",
    "    takes a row of the blight dataset as entry retrun a series with\n",
    "    blight_nopaid: the total fee with a NO PAYMENT ON RECORD status\n",
    "    blight_paid: the total fee with a PAID IN FULL status\n",
    "    blight_partial: the total fee with a PARTIAL PAYMENT MADE status\n",
    "    blight_notapplied: the total fee with a NO PAYMENT APPLIED status\n",
    "    \"\"\"\n",
    "    fees = pd.Series()\n",
    "    for val in status.values():\n",
    "        fees[val]=0.\n",
    "    totamount = 0.\n",
    "    for fee_entry in  col_fees:\n",
    "        totamount += read_amount(line[fee_entry])\n",
    "    fees[status[line[\"PaymentStatus\"]]] = totamount\n",
    "    return fees"
   ]
  },
  {
   "cell_type": "code",
   "execution_count": 11,
   "metadata": {},
   "outputs": [],
   "source": [
    "payment = dblight.apply(grab_payment,axis=1)\n",
    "dblight = dblight[[\"ViolationStreetNumber\",\"ViolationStreetName\"]].merge(payment,left_index=True,right_index=True)\n",
    "dblight[\"blight_inc\"] = 1"
   ]
  },
  {
   "cell_type": "markdown",
   "metadata": {},
   "source": [
    "Multiple blight incidents may be associated to the same address. For this reason we have to aggregate them by street number and street name. "
   ]
  },
  {
   "cell_type": "code",
   "execution_count": 12,
   "metadata": {},
   "outputs": [
    {
     "name": "stdout",
     "output_type": "stream",
     "text": [
      "Before aggregation 301567 rows. After aggregation 110699 rows\n"
     ]
    }
   ],
   "source": [
    "# First process the address to remove abbreviations\n",
    "dblight[\"ViolationStreetName\"] = dblight[\"ViolationStreetName\"].apply(\n",
    "     lambda x: re.sub(\"( ST\\.?| DR\\.?| RD\\.?| BLVD\\.?)\",\"\",x).strip()\n",
    ")\n",
    "# Run the aggregation\n",
    "blight_gb = dblight.groupby([\"ViolationStreetNumber\",\"ViolationStreetName\"],as_index=False).sum()\n",
    "print \"Before aggregation\", len(dblight),\"rows. After aggregation\",len(blight_gb),\"rows\""
   ]
  },
  {
   "cell_type": "code",
   "execution_count": 13,
   "metadata": {
    "collapsed": true
   },
   "outputs": [],
   "source": [
    "# add longitude and latitude features initialized with nan\n",
    "blight_gb[\"long\"] = pd.np.nan\n",
    "blight_gb[\"lat\"] = pd.np.nan\n",
    "# this line is commented so as not to overwrite the processed file.\n",
    "# This should be uncommented to restart form scratch\n",
    "## blight_gb.to_csv(processed_path+\"blight_incident_count.csv\",index=False)"
   ]
  },
  {
   "cell_type": "markdown",
   "metadata": {},
   "source": [
    "We then use the API [Detroit city API](https://data.detroitmi.gov/resource/snut-x2sy) to search for genuine gps coordinates for all addresses in this dataset. \n",
    "The code in available as *py3_scripts/spider_blight_gps.py*. We note that coordinates of unidentified addresses are set to (0.,0.).\n",
    "\n",
    "After this processing we obtain a file following this schema\n",
    "* **ViolationStreetNumber**: Street number extracted from the source file, instance with negative or missing value were removed\n",
    "* **ViolationStreetName**: Street number extracted from the source file, street abbreviations were removed\n",
    "* **address**: Vialtion address concatenated from  ViolationStreetNumber and ViolationStreetName\n",
    "* **blight_inc**: number of blight violations associated to the adress \t\n",
    "* **blight_paid**: total amount in USD assocated with the original *PAID IN FULL* label\n",
    "* **blight_partial**: total amount in USD associated with the original *PARTIAL PAYMENT MADE* label\n",
    "* **blight_nopaid**: total amount in USD associated with the original *NO PAYMENT ON RECORD* label\n",
    "* **blight_notapplied**: total amount in USD associated with the original *NO PAYMENT APPLIED* label\n",
    "* **long**: longitude \n",
    "* **lat**: latitude"
   ]
  },
  {
   "cell_type": "code",
   "execution_count": 14,
   "metadata": {},
   "outputs": [
    {
     "data": {
      "text/html": [
       "<div>\n",
       "<style>\n",
       "    .dataframe thead tr:only-child th {\n",
       "        text-align: right;\n",
       "    }\n",
       "\n",
       "    .dataframe thead th {\n",
       "        text-align: left;\n",
       "    }\n",
       "\n",
       "    .dataframe tbody tr th {\n",
       "        vertical-align: top;\n",
       "    }\n",
       "</style>\n",
       "<table border=\"1\" class=\"dataframe\">\n",
       "  <thead>\n",
       "    <tr style=\"text-align: right;\">\n",
       "      <th></th>\n",
       "      <th>ViolationStreetNumber</th>\n",
       "      <th>ViolationStreetName</th>\n",
       "      <th>blight_nopaid</th>\n",
       "      <th>blight_paid</th>\n",
       "      <th>blight_partial</th>\n",
       "      <th>blight_notapplied</th>\n",
       "      <th>blight_inc</th>\n",
       "      <th>address</th>\n",
       "      <th>long</th>\n",
       "      <th>lat</th>\n",
       "    </tr>\n",
       "  </thead>\n",
       "  <tbody>\n",
       "    <tr>\n",
       "      <th>0</th>\n",
       "      <td>1</td>\n",
       "      <td>GRISWOLD</td>\n",
       "      <td>0.0</td>\n",
       "      <td>360.0</td>\n",
       "      <td>0.0</td>\n",
       "      <td>360.0</td>\n",
       "      <td>2</td>\n",
       "      <td>1 GRISWOLD</td>\n",
       "      <td>-83.045981</td>\n",
       "      <td>42.328438</td>\n",
       "    </tr>\n",
       "    <tr>\n",
       "      <th>1</th>\n",
       "      <td>1</td>\n",
       "      <td>LAFAYETTE PLAISA</td>\n",
       "      <td>0.0</td>\n",
       "      <td>0.0</td>\n",
       "      <td>0.0</td>\n",
       "      <td>6360.0</td>\n",
       "      <td>6</td>\n",
       "      <td>1 LAFAYETTE PLAISA</td>\n",
       "      <td>-83.037094</td>\n",
       "      <td>42.340398</td>\n",
       "    </tr>\n",
       "    <tr>\n",
       "      <th>2</th>\n",
       "      <td>10</td>\n",
       "      <td>ATKINSON</td>\n",
       "      <td>0.0</td>\n",
       "      <td>1380.0</td>\n",
       "      <td>0.0</td>\n",
       "      <td>0.0</td>\n",
       "      <td>3</td>\n",
       "      <td>10 ATKINSON</td>\n",
       "      <td>-83.082933</td>\n",
       "      <td>42.383841</td>\n",
       "    </tr>\n",
       "    <tr>\n",
       "      <th>3</th>\n",
       "      <td>10</td>\n",
       "      <td>WITHERELL</td>\n",
       "      <td>0.0</td>\n",
       "      <td>0.0</td>\n",
       "      <td>0.0</td>\n",
       "      <td>16410.0</td>\n",
       "      <td>15</td>\n",
       "      <td>10 WITHERELL</td>\n",
       "      <td>-83.049734</td>\n",
       "      <td>42.335954</td>\n",
       "    </tr>\n",
       "    <tr>\n",
       "      <th>4</th>\n",
       "      <td>100</td>\n",
       "      <td>BLAINE</td>\n",
       "      <td>0.0</td>\n",
       "      <td>0.0</td>\n",
       "      <td>0.0</td>\n",
       "      <td>180.0</td>\n",
       "      <td>1</td>\n",
       "      <td>100 BLAINE</td>\n",
       "      <td>-83.081510</td>\n",
       "      <td>42.379181</td>\n",
       "    </tr>\n",
       "  </tbody>\n",
       "</table>\n",
       "</div>"
      ],
      "text/plain": [
       "   ViolationStreetNumber ViolationStreetName  blight_nopaid  blight_paid  \\\n",
       "0                      1            GRISWOLD            0.0        360.0   \n",
       "1                      1    LAFAYETTE PLAISA            0.0          0.0   \n",
       "2                     10            ATKINSON            0.0       1380.0   \n",
       "3                     10           WITHERELL            0.0          0.0   \n",
       "4                    100              BLAINE            0.0          0.0   \n",
       "\n",
       "   blight_partial  blight_notapplied  blight_inc             address  \\\n",
       "0             0.0              360.0           2          1 GRISWOLD   \n",
       "1             0.0             6360.0           6  1 LAFAYETTE PLAISA   \n",
       "2             0.0                0.0           3         10 ATKINSON   \n",
       "3             0.0            16410.0          15        10 WITHERELL   \n",
       "4             0.0              180.0           1          100 BLAINE   \n",
       "\n",
       "        long        lat  \n",
       "0 -83.045981  42.328438  \n",
       "1 -83.037094  42.340398  \n",
       "2 -83.082933  42.383841  \n",
       "3 -83.049734  42.335954  \n",
       "4 -83.081510  42.379181  "
      ]
     },
     "execution_count": 14,
     "metadata": {},
     "output_type": "execute_result"
    }
   ],
   "source": [
    "blight_inc = pd.read_csv(processed_path+\"blight_incident_count.csv\")\n",
    "# no longer necessary but it is a good idea to select only instance within the area and overwrite the file\n",
    "## blight_in = blight_inc.apply(within_area,axis=1)\n",
    "## blight_inc.loc[blight_in].to_csv(processed_path+\"blight_incident_count.csv\",index=False)\n",
    "blight_inc.head()"
   ]
  },
  {
   "cell_type": "markdown",
   "metadata": {},
   "source": [
    "### 3.4 311 calls dataset"
   ]
  },
  {
   "cell_type": "code",
   "execution_count": 15,
   "metadata": {
    "collapsed": true
   },
   "outputs": [],
   "source": [
    "# Read the blight violation file to avoid a warning we read everything as strings\n",
    "d311 = pd.read_csv(dic_inp[\"detroit-311.csv\"], quotechar='\"',converters={\"lng\":float,\"lat\":float})\n",
    "# remove duplicate tickets\n",
    "d311.drop_duplicates(subset=\"ticket_id\")\n",
    "# rename lng as long\n",
    "d311.rename(columns={\"lng\":\"long\"},inplace=True)"
   ]
  },
  {
   "cell_type": "code",
   "execution_count": 16,
   "metadata": {
    "collapsed": true
   },
   "outputs": [],
   "source": [
    "d311_in = d311.apply(within_area,axis=1)\n",
    "d311[\"inc_311\"] = 1\n",
    "d311_gb = d311.loc[d311_in,[\"long\",\"lat\",\"inc_311\"]].groupby([\"long\",\"lat\"],as_index=False).sum()"
   ]
  },
  {
   "cell_type": "code",
   "execution_count": 17,
   "metadata": {},
   "outputs": [
    {
     "data": {
      "text/html": [
       "<div>\n",
       "<style>\n",
       "    .dataframe thead tr:only-child th {\n",
       "        text-align: right;\n",
       "    }\n",
       "\n",
       "    .dataframe thead th {\n",
       "        text-align: left;\n",
       "    }\n",
       "\n",
       "    .dataframe tbody tr th {\n",
       "        vertical-align: top;\n",
       "    }\n",
       "</style>\n",
       "<table border=\"1\" class=\"dataframe\">\n",
       "  <thead>\n",
       "    <tr style=\"text-align: right;\">\n",
       "      <th></th>\n",
       "      <th>long</th>\n",
       "      <th>lat</th>\n",
       "      <th>inc_311</th>\n",
       "    </tr>\n",
       "  </thead>\n",
       "  <tbody>\n",
       "    <tr>\n",
       "      <th>0</th>\n",
       "      <td>-83.287138</td>\n",
       "      <td>42.437345</td>\n",
       "      <td>1</td>\n",
       "    </tr>\n",
       "    <tr>\n",
       "      <th>1</th>\n",
       "      <td>-83.287061</td>\n",
       "      <td>42.422309</td>\n",
       "      <td>1</td>\n",
       "    </tr>\n",
       "    <tr>\n",
       "      <th>2</th>\n",
       "      <td>-83.286695</td>\n",
       "      <td>42.438868</td>\n",
       "      <td>1</td>\n",
       "    </tr>\n",
       "    <tr>\n",
       "      <th>3</th>\n",
       "      <td>-83.286604</td>\n",
       "      <td>42.412567</td>\n",
       "      <td>1</td>\n",
       "    </tr>\n",
       "    <tr>\n",
       "      <th>4</th>\n",
       "      <td>-83.286597</td>\n",
       "      <td>42.412409</td>\n",
       "      <td>1</td>\n",
       "    </tr>\n",
       "  </tbody>\n",
       "</table>\n",
       "</div>"
      ],
      "text/plain": [
       "        long        lat  inc_311\n",
       "0 -83.287138  42.437345        1\n",
       "1 -83.287061  42.422309        1\n",
       "2 -83.286695  42.438868        1\n",
       "3 -83.286604  42.412567        1\n",
       "4 -83.286597  42.412409        1"
      ]
     },
     "execution_count": 17,
     "metadata": {},
     "output_type": "execute_result"
    }
   ],
   "source": [
    "d311_gb.head()"
   ]
  },
  {
   "cell_type": "markdown",
   "metadata": {},
   "source": [
    "After this processing we obtain a file following this schema\n",
    "* **long**: longitude associated to the complaint\n",
    "* **lat**: latitude associated to the complaint\n",
    "* **inc_311**: number of incidents reported through 311 call for these set of coordinates"
   ]
  },
  {
   "cell_type": "code",
   "execution_count": 18,
   "metadata": {
    "collapsed": true
   },
   "outputs": [],
   "source": [
    "d311_gb.to_csv(processed_path+\"c311_incident_count.csv\")"
   ]
  },
  {
   "cell_type": "markdown",
   "metadata": {},
   "source": [
    "### 3.5 Crime dataset"
   ]
  },
  {
   "cell_type": "code",
   "execution_count": 19,
   "metadata": {},
   "outputs": [
    {
     "name": "stderr",
     "output_type": "stream",
     "text": [
      "/Users/dtweed/anaconda2/lib/python2.7/site-packages/IPython/core/interactiveshell.py:2718: DtypeWarning: Columns (2) have mixed types. Specify dtype option on import or set low_memory=False.\n",
      "  interactivity=interactivity, compiler=compiler, result=result)\n"
     ]
    }
   ],
   "source": [
    "dcrime = pd.read_csv(dic_inp[\"detroit-crime.csv\"])\n",
    "dcrime.rename(columns = {\"LON\":\"long\",\"LAT\":\"lat\"},inplace=True)"
   ]
  },
  {
   "cell_type": "code",
   "execution_count": 20,
   "metadata": {},
   "outputs": [
    {
     "data": {
      "text/html": [
       "<div>\n",
       "<style>\n",
       "    .dataframe thead tr:only-child th {\n",
       "        text-align: right;\n",
       "    }\n",
       "\n",
       "    .dataframe thead th {\n",
       "        text-align: left;\n",
       "    }\n",
       "\n",
       "    .dataframe tbody tr th {\n",
       "        vertical-align: top;\n",
       "    }\n",
       "</style>\n",
       "<table border=\"1\" class=\"dataframe\">\n",
       "  <thead>\n",
       "    <tr style=\"text-align: right;\">\n",
       "      <th></th>\n",
       "      <th>ROWNUM</th>\n",
       "      <th>CASEID</th>\n",
       "      <th>INCINO</th>\n",
       "      <th>CATEGORY</th>\n",
       "      <th>OFFENSEDESCRIPTION</th>\n",
       "      <th>STATEOFFENSEFILECLASS</th>\n",
       "      <th>INCIDENTDATE</th>\n",
       "      <th>HOUR</th>\n",
       "      <th>SCA</th>\n",
       "      <th>PRECINCT</th>\n",
       "      <th>COUNCIL</th>\n",
       "      <th>NEIGHBORHOOD</th>\n",
       "      <th>CENSUSTRACT</th>\n",
       "      <th>ADDRESS</th>\n",
       "      <th>long</th>\n",
       "      <th>lat</th>\n",
       "      <th>LOCATION</th>\n",
       "    </tr>\n",
       "  </thead>\n",
       "  <tbody>\n",
       "    <tr>\n",
       "      <th>0</th>\n",
       "      <td>53256</td>\n",
       "      <td>1953933</td>\n",
       "      <td>1506030028.1</td>\n",
       "      <td>ASSAULT</td>\n",
       "      <td>ASSAULT AND BATTERY/SIMPLE ASSAULT</td>\n",
       "      <td>13001.0</td>\n",
       "      <td>06/03/2015 12:00:00 AM</td>\n",
       "      <td>2</td>\n",
       "      <td>1007.0</td>\n",
       "      <td>10.0</td>\n",
       "      <td>City Council District 5</td>\n",
       "      <td>PETOSKEY-OTSEGO</td>\n",
       "      <td>5334.0</td>\n",
       "      <td>09100 PETOSKEY</td>\n",
       "      <td>-83.1221</td>\n",
       "      <td>42.3678</td>\n",
       "      <td>PETOSKEY\\n09100\\n(42.3676, -83.1219)</td>\n",
       "    </tr>\n",
       "    <tr>\n",
       "      <th>1</th>\n",
       "      <td>17631</td>\n",
       "      <td>1917717</td>\n",
       "      <td>1503010158.1</td>\n",
       "      <td>LARCENY</td>\n",
       "      <td>LARCENY - PARTS AND ACCESSORIES FROM VEHICLE</td>\n",
       "      <td>23006.0</td>\n",
       "      <td>03/01/2015 12:00:00 AM</td>\n",
       "      <td>9</td>\n",
       "      <td>608.0</td>\n",
       "      <td>6.0</td>\n",
       "      <td>City Council District 7</td>\n",
       "      <td>GRANDALE</td>\n",
       "      <td>5452.0</td>\n",
       "      <td>00 PLYMOUTH AND MANSFIELD</td>\n",
       "      <td>-83.2035</td>\n",
       "      <td>42.3724</td>\n",
       "      <td>00 PLYMOUTH AND MANSFIELD\\n(42.3725, -83.2033)</td>\n",
       "    </tr>\n",
       "    <tr>\n",
       "      <th>2</th>\n",
       "      <td>11207</td>\n",
       "      <td>1910955</td>\n",
       "      <td>1502080223.1</td>\n",
       "      <td>STOLEN VEHICLE</td>\n",
       "      <td>VEHICLE THEFT</td>\n",
       "      <td>24001.0</td>\n",
       "      <td>02/08/2015 12:00:00 AM</td>\n",
       "      <td>18</td>\n",
       "      <td>1105.0</td>\n",
       "      <td>11.0</td>\n",
       "      <td>City Council District 3</td>\n",
       "      <td>OUTER DRIVE VAN DYKE</td>\n",
       "      <td>5051.0</td>\n",
       "      <td>00 E 7 MILE  VAN DYKE</td>\n",
       "      <td>-83.0241</td>\n",
       "      <td>42.4338</td>\n",
       "      <td>00 E 7 MILE VAN DYKE\\n(42.4339, -83.0241)</td>\n",
       "    </tr>\n",
       "    <tr>\n",
       "      <th>3</th>\n",
       "      <td>116589</td>\n",
       "      <td>2018186</td>\n",
       "      <td>1511090188.1</td>\n",
       "      <td>WEAPONS OFFENSES</td>\n",
       "      <td>WEAPONS OFFENSE (OTHER)</td>\n",
       "      <td>52003.0</td>\n",
       "      <td>11/09/2015 12:00:00 AM</td>\n",
       "      <td>12</td>\n",
       "      <td>210.0</td>\n",
       "      <td>2.0</td>\n",
       "      <td>City Council District 6</td>\n",
       "      <td>TIREMAN</td>\n",
       "      <td>NaN</td>\n",
       "      <td>06600 BARTON</td>\n",
       "      <td>-83.1381</td>\n",
       "      <td>42.3496</td>\n",
       "      <td>BARTON\\n06600\\n(42.3494, -83.1379)</td>\n",
       "    </tr>\n",
       "    <tr>\n",
       "      <th>4</th>\n",
       "      <td>85790</td>\n",
       "      <td>1986862</td>\n",
       "      <td>1508239803.1</td>\n",
       "      <td>LARCENY</td>\n",
       "      <td>LARCENY - PARTS AND ACCESSORIES FROM VEHICLE</td>\n",
       "      <td>23006.0</td>\n",
       "      <td>08/14/2015 12:00:00 AM</td>\n",
       "      <td>7</td>\n",
       "      <td>309.0</td>\n",
       "      <td>3.0</td>\n",
       "      <td>City Council District 6</td>\n",
       "      <td>WEST CANFIELD</td>\n",
       "      <td>5204.0</td>\n",
       "      <td>00900 W WILLIS</td>\n",
       "      <td>-83.0692</td>\n",
       "      <td>42.3481</td>\n",
       "      <td>W WILLIS\\n00900\\n(42.3481, -83.0693)</td>\n",
       "    </tr>\n",
       "  </tbody>\n",
       "</table>\n",
       "</div>"
      ],
      "text/plain": [
       "   ROWNUM   CASEID        INCINO          CATEGORY  \\\n",
       "0   53256  1953933  1506030028.1           ASSAULT   \n",
       "1   17631  1917717  1503010158.1           LARCENY   \n",
       "2   11207  1910955  1502080223.1    STOLEN VEHICLE   \n",
       "3  116589  2018186  1511090188.1  WEAPONS OFFENSES   \n",
       "4   85790  1986862  1508239803.1           LARCENY   \n",
       "\n",
       "                             OFFENSEDESCRIPTION  STATEOFFENSEFILECLASS  \\\n",
       "0            ASSAULT AND BATTERY/SIMPLE ASSAULT                13001.0   \n",
       "1  LARCENY - PARTS AND ACCESSORIES FROM VEHICLE                23006.0   \n",
       "2                                 VEHICLE THEFT                24001.0   \n",
       "3                       WEAPONS OFFENSE (OTHER)                52003.0   \n",
       "4  LARCENY - PARTS AND ACCESSORIES FROM VEHICLE                23006.0   \n",
       "\n",
       "             INCIDENTDATE  HOUR     SCA  PRECINCT                  COUNCIL  \\\n",
       "0  06/03/2015 12:00:00 AM     2  1007.0      10.0  City Council District 5   \n",
       "1  03/01/2015 12:00:00 AM     9   608.0       6.0  City Council District 7   \n",
       "2  02/08/2015 12:00:00 AM    18  1105.0      11.0  City Council District 3   \n",
       "3  11/09/2015 12:00:00 AM    12   210.0       2.0  City Council District 6   \n",
       "4  08/14/2015 12:00:00 AM     7   309.0       3.0  City Council District 6   \n",
       "\n",
       "           NEIGHBORHOOD  CENSUSTRACT                    ADDRESS     long  \\\n",
       "0       PETOSKEY-OTSEGO       5334.0             09100 PETOSKEY -83.1221   \n",
       "1              GRANDALE       5452.0  00 PLYMOUTH AND MANSFIELD -83.2035   \n",
       "2  OUTER DRIVE VAN DYKE       5051.0      00 E 7 MILE  VAN DYKE -83.0241   \n",
       "3               TIREMAN          NaN               06600 BARTON -83.1381   \n",
       "4         WEST CANFIELD       5204.0             00900 W WILLIS -83.0692   \n",
       "\n",
       "       lat                                        LOCATION  \n",
       "0  42.3678            PETOSKEY\\n09100\\n(42.3676, -83.1219)  \n",
       "1  42.3724  00 PLYMOUTH AND MANSFIELD\\n(42.3725, -83.2033)  \n",
       "2  42.4338       00 E 7 MILE VAN DYKE\\n(42.4339, -83.0241)  \n",
       "3  42.3496              BARTON\\n06600\\n(42.3494, -83.1379)  \n",
       "4  42.3481            W WILLIS\\n00900\\n(42.3481, -83.0693)  "
      ]
     },
     "execution_count": 20,
     "metadata": {},
     "output_type": "execute_result"
    }
   ],
   "source": [
    "dcrime.head()"
   ]
  },
  {
   "cell_type": "code",
   "execution_count": 21,
   "metadata": {},
   "outputs": [
    {
     "name": "stdout",
     "output_type": "stream",
     "text": [
      "Number of incidents within area 119363 total 119931\n"
     ]
    }
   ],
   "source": [
    "dcrime_in = dcrime.apply(within_area,axis=1)\n",
    "print \"Number of incidents within area\",sum(dcrime_in),\"total\",len(dcrime_in) "
   ]
  },
  {
   "cell_type": "markdown",
   "metadata": {},
   "source": [
    "Since the same case can correspond to multiple offence, it is usefull to aggregate the crime incidents by locations. "
   ]
  },
  {
   "cell_type": "code",
   "execution_count": 22,
   "metadata": {
    "collapsed": true
   },
   "outputs": [],
   "source": [
    "dcrime[\"crime_inc\"] = 1\n",
    "dcrime_gb = dcrime.loc[dcrime_in,[\"long\",\"lat\",\"crime_inc\"]].groupby([\"long\",\"lat\"],as_index=False).sum()"
   ]
  },
  {
   "cell_type": "code",
   "execution_count": 23,
   "metadata": {},
   "outputs": [
    {
     "data": {
      "text/html": [
       "<div>\n",
       "<style>\n",
       "    .dataframe thead tr:only-child th {\n",
       "        text-align: right;\n",
       "    }\n",
       "\n",
       "    .dataframe thead th {\n",
       "        text-align: left;\n",
       "    }\n",
       "\n",
       "    .dataframe tbody tr th {\n",
       "        vertical-align: top;\n",
       "    }\n",
       "</style>\n",
       "<table border=\"1\" class=\"dataframe\">\n",
       "  <thead>\n",
       "    <tr style=\"text-align: right;\">\n",
       "      <th></th>\n",
       "      <th>long</th>\n",
       "      <th>lat</th>\n",
       "      <th>crime_inc</th>\n",
       "    </tr>\n",
       "  </thead>\n",
       "  <tbody>\n",
       "    <tr>\n",
       "      <th>0</th>\n",
       "      <td>-83.2975</td>\n",
       "      <td>42.3842</td>\n",
       "      <td>1</td>\n",
       "    </tr>\n",
       "    <tr>\n",
       "      <th>1</th>\n",
       "      <td>-83.2968</td>\n",
       "      <td>42.2954</td>\n",
       "      <td>1</td>\n",
       "    </tr>\n",
       "    <tr>\n",
       "      <th>2</th>\n",
       "      <td>-83.2966</td>\n",
       "      <td>42.3986</td>\n",
       "      <td>1</td>\n",
       "    </tr>\n",
       "    <tr>\n",
       "      <th>3</th>\n",
       "      <td>-83.2959</td>\n",
       "      <td>42.3993</td>\n",
       "      <td>1</td>\n",
       "    </tr>\n",
       "    <tr>\n",
       "      <th>4</th>\n",
       "      <td>-83.2931</td>\n",
       "      <td>42.2654</td>\n",
       "      <td>1</td>\n",
       "    </tr>\n",
       "  </tbody>\n",
       "</table>\n",
       "</div>"
      ],
      "text/plain": [
       "      long      lat  crime_inc\n",
       "0 -83.2975  42.3842          1\n",
       "1 -83.2968  42.2954          1\n",
       "2 -83.2966  42.3986          1\n",
       "3 -83.2959  42.3993          1\n",
       "4 -83.2931  42.2654          1"
      ]
     },
     "execution_count": 23,
     "metadata": {},
     "output_type": "execute_result"
    }
   ],
   "source": [
    "dcrime_gb.head()"
   ]
  },
  {
   "cell_type": "markdown",
   "metadata": {},
   "source": [
    "After this processing we obtain a file following this schema\n",
    "* **long**: longitude associated to the complaint\n",
    "* **lat**: latitude associated to the complaint\n",
    "* **crime_inc**: number of incidents reported through 311 call for these set of coordinates"
   ]
  },
  {
   "cell_type": "code",
   "execution_count": 24,
   "metadata": {
    "collapsed": true
   },
   "outputs": [],
   "source": [
    "dcrime_gb.to_csv(processed_path+\"crime_incident_count.csv\")"
   ]
  },
  {
   "cell_type": "markdown",
   "metadata": {},
   "source": [
    "### 3.6 Parcels dataset "
   ]
  },
  {
   "cell_type": "code",
   "execution_count": 25,
   "metadata": {},
   "outputs": [
    {
     "name": "stderr",
     "output_type": "stream",
     "text": [
      "/Users/dtweed/anaconda2/lib/python2.7/site-packages/IPython/core/interactiveshell.py:2718: DtypeWarning: Columns (3,4) have mixed types. Specify dtype option on import or set low_memory=False.\n",
      "  interactivity=interactivity, compiler=compiler, result=result)\n"
     ]
    }
   ],
   "source": [
    "parcels = pd.read_csv(dic_inp[\"Parcel_Points_Ownership.csv\"])\n",
    "parcel_col = {\n",
    "    \"Longitude\":\"long\",\n",
    "    \"Latitude\":\"lat\"\n",
    "}\n",
    "parcels = parcels[parcel_col.keys()].rename(columns=parcel_col)"
   ]
  },
  {
   "cell_type": "markdown",
   "metadata": {},
   "source": [
    "## 4 Building a train and test set"
   ]
  },
  {
   "cell_type": "markdown",
   "metadata": {},
   "source": [
    "### 4.1 Defining a grid\n",
    "\n",
    "This helper function define a grid with some specific resolutions"
   ]
  },
  {
   "cell_type": "code",
   "execution_count": 26,
   "metadata": {
    "collapsed": true
   },
   "outputs": [],
   "source": [
    "def prep_grid(dg):\n",
    "    \"\"\"\n",
    "    Take a dstance in meter as input\n",
    "    Read the gps_box \n",
    "    Returns a dictionnary defining the grid\n",
    "    \"\"\"\n",
    "    # we use differents scale for lattitude and longitudes \n",
    "    dlat = (gps_box[\"lat\"][1]-gps_box[\"lat\"][0])*dg/gps_box[\"Dy\"]\n",
    "    dlong = (gps_box[\"long\"][1]-gps_box[\"long\"][0])*dg/gps_box[\"Dx\"]\n",
    "    nx = int(gps_box[\"Dx\"]/dg) + 1\n",
    "    ny = int(gps_box[\"Dy\"]/dg) + 1\n",
    "    return {\"dlat\":dlat,\"dlong\":dlong,\"nx\":nx,\"ny\":ny,\"scale\":dg}"
   ]
  },
  {
   "cell_type": "markdown",
   "metadata": {},
   "source": [
    "We use this function to define the grid prior to building a new function that will associate gird index to any set of gps coordinate within the area."
   ]
  },
  {
   "cell_type": "code",
   "execution_count": 27,
   "metadata": {
    "collapsed": true
   },
   "outputs": [],
   "source": [
    "# Define the grid\n",
    "scal = 60\n",
    "gdef = prep_grid(scal)\n",
    "def build_grid_index(line):\n",
    "    \"\"\"\n",
    "    Takes a row containing fileds \"long\" and \"lat\" as input\n",
    "    Return a grid index corresponding to the gird defined as gdef\n",
    "    Note: row must have been selected with the select_within_area method\n",
    "    \"\"\"\n",
    "    ix = int((line[\"long\"]-gps_box[\"long\"][0])/gdef[\"dlong\"])\n",
    "    iy = int((line[\"lat\"]-gps_box[\"lat\"][0])/gdef[\"dlat\"])\n",
    "    return iy*gdef[\"nx\"] + ix"
   ]
  },
  {
   "cell_type": "markdown",
   "metadata": {},
   "source": [
    "For later use we save these information in a json file."
   ]
  },
  {
   "cell_type": "code",
   "execution_count": 28,
   "metadata": {
    "collapsed": true
   },
   "outputs": [],
   "source": [
    "#save grid info as a json\n",
    "gf = open(processed_path+\"grid.json\",\"w\")\n",
    "json.dump({\"box\":gps_box,\"grid\":gdef},gf)\n",
    "gf.close()"
   ]
  },
  {
   "cell_type": "markdown",
   "metadata": {},
   "source": [
    "### 4.2 Combining parcel adn demolition datasets\n",
    "\n",
    "* We start by selected amoung the parcel data those within the area\n",
    "* We associate a grid index to each rom\n",
    "* We proceed also associate a grid index to each demolition row\n",
    "* we then merge both set on the grid index"
   ]
  },
  {
   "cell_type": "code",
   "execution_count": 30,
   "metadata": {
    "collapsed": true
   },
   "outputs": [],
   "source": [
    "parcel_in = parcels.apply(within_area,axis=1)\n",
    "parcels = parcels.loc[parcel_in]\n",
    "print \"Number of parcels wuthin area\",sum(parcel_in),\"out of\",len(parcel_in)\n",
    "del parcel_ins\n",
    "parcels[\"grid\"] = parcels.apply(build_grid_index,axis=1)"
   ]
  },
  {
   "cell_type": "code",
   "execution_count": 33,
   "metadata": {},
   "outputs": [
    {
     "name": "stderr",
     "output_type": "stream",
     "text": [
      "/Users/dtweed/anaconda2/lib/python2.7/site-packages/ipykernel_launcher.py:3: SettingWithCopyWarning: \n",
      "A value is trying to be set on a copy of a slice from a DataFrame.\n",
      "Try using .loc[row_indexer,col_indexer] = value instead\n",
      "\n",
      "See the caveats in the documentation: http://pandas.pydata.org/pandas-docs/stable/indexing.html#indexing-view-versus-copy\n",
      "  This is separate from the ipykernel package so we can avoid doing imports until\n"
     ]
    }
   ],
   "source": [
    "dem_in = dem.apply(within_area,axis=1)\n",
    "dem = dem.loc[dem_in]\n",
    "dem[\"grid\"]= dem.apply(build_grid_index,axis=1)"
   ]
  },
  {
   "cell_type": "markdown",
   "metadata": {},
   "source": [
    "We first have a look at the distribution of the number of buuldings per grid cell in both set.\n",
    "We expect that our grid will not be precise enough to isolate every buildings."
   ]
  },
  {
   "cell_type": "code",
   "execution_count": 35,
   "metadata": {},
   "outputs": [
    {
     "data": {
      "image/png": "[encoded data removed]",
      "text/plain": [
       "<matplotlib.figure.Figure at 0x125c67e50>"
      ]
     },
     "metadata": {},
     "output_type": "display_data"
    }
   ],
   "source": [
    "dem_count = Counter(dem[\"grid\"])\n",
    "par_count = Counter(parcels[\"grid\"])\n",
    "dem_count = pd.DataFrame.from_dict(dem_count,orient='index').rename(columns={0:\"demolition_permit\"})\n",
    "par_count = pd.DataFrame.from_dict(par_count,orient='index').rename(columns={0:\"parcels\"})\n",
    "# plot a figure\n",
    "fig = plt.figure(figsize=(9,3))\n",
    "axl  = plt.subplot(121)\n",
    "hdem = dem_count.hist(ax=axl,color=\"red\",bins=max(dem_count[\"demolition_permit\"]))\n",
    "ltit = plt.title(\"Demolition permits\")\n",
    "axr  = plt.subplot(122)\n",
    "hparcels = par_count.hist(ax=axr,color=\"blue\",bins=max(par_count[\"parcels\"]))\n",
    "rtit = plt.title(\"Parcels\")"
   ]
  },
  {
   "cell_type": "markdown",
   "metadata": {},
   "source": [
    "Indeed for the demolition dataset the overlap is not extreme, but in the case of the parcel dataset we obtain a lot of aoverlap. We are reducing the data by selecting only one instance of parcel per grid cell"
   ]
  },
  {
   "cell_type": "code",
   "execution_count": 36,
   "metadata": {},
   "outputs": [
    {
     "data": {
      "image/png": "[encoded data removed]",
      "text/plain": [
       "<matplotlib.figure.Figure at 0x125c67f10>"
      ]
     },
     "metadata": {},
     "output_type": "display_data"
    }
   ],
   "source": [
    "parcel_grid = parcels.drop_duplicates(\"grid\")\n",
    "fig = plt.figure(figsize=(9,6))\n",
    "ax  = plt.subplot(111)\n",
    "axp = parcel_grid.plot.scatter(x=\"long\",y=\"lat\",s=0.01,color=\"blue\",alpha=0.3,ax=ax,label=\"Parcels\")\n",
    "axd = dem.plot.scatter(x=\"long\",y=\"lat\",s=0.01,color=\"red\",ax=ax,label=\"Demolition permits\")\n",
    "xl = plt.xlim(gps_box[\"long\"])\n",
    "yl = plt.ylim(gps_box[\"lat\"])\n",
    "xlab = plt.xlabel(\"Longitude\")\n",
    "ylab = plt.ylabel(\"Latitude\")\n",
    "xy = plt.axis('equal')\n",
    "legend = plt.legend(markerscale=75,ncol=2)"
   ]
  },
  {
   "cell_type": "markdown",
   "metadata": {},
   "source": [
    "We now merge the two datasets with an outer join. So that:\n",
    "* Any parcel found the demolition dataset will have a type set to either *DISM* or *Dismantle*\n",
    "* Any parcel not fount in the demolition dataset, will have a missing values associated to the type\n",
    "* Any demolition instance not found in the parcel dataset with have missing valaues for *lat* and *long*"
   ]
  },
  {
   "cell_type": "code",
   "execution_count": 40,
   "metadata": {},
   "outputs": [
    {
     "data": {
      "text/html": [
       "<div>\n",
       "<style>\n",
       "    .dataframe thead tr:only-child th {\n",
       "        text-align: right;\n",
       "    }\n",
       "\n",
       "    .dataframe thead th {\n",
       "        text-align: left;\n",
       "    }\n",
       "\n",
       "    .dataframe tbody tr th {\n",
       "        vertical-align: top;\n",
       "    }\n",
       "</style>\n",
       "<table border=\"1\" class=\"dataframe\">\n",
       "  <thead>\n",
       "    <tr style=\"text-align: right;\">\n",
       "      <th></th>\n",
       "      <th>nb_rows</th>\n",
       "    </tr>\n",
       "  </thead>\n",
       "  <tbody>\n",
       "    <tr>\n",
       "      <th>NaN</th>\n",
       "      <td>88162</td>\n",
       "    </tr>\n",
       "    <tr>\n",
       "      <th>Dismantle</th>\n",
       "      <td>1205</td>\n",
       "    </tr>\n",
       "    <tr>\n",
       "      <th>DISM</th>\n",
       "      <td>4729</td>\n",
       "    </tr>\n",
       "  </tbody>\n",
       "</table>\n",
       "</div>"
      ],
      "text/plain": [
       "           nb_rows\n",
       "NaN          88162\n",
       "Dismantle     1205\n",
       "DISM          4729"
      ]
     },
     "execution_count": 40,
     "metadata": {},
     "output_type": "execute_result"
    }
   ],
   "source": [
    "parcel_dem = parcel_grid.merge(dem,on=\"grid\",suffixes=(\"\",\"_dem\"),how=\"outer\")\n",
    "type_count = Counter(parcel_dem[\"type\"])\n",
    "pd.DataFrame.from_dict(type_count,orient=\"index\").rename(columns={0:\"nb_rows\"})"
   ]
  },
  {
   "cell_type": "markdown",
   "metadata": {},
   "source": [
    "### 4.3 Building the training and testing datasets\n",
    "\n",
    "We are going to select the buildings with type *Dismantle* to be part of the test set and those with type *DISM* to be part of the training set.\n",
    "For each set we are going to sample an equivalent number of buildings with missing type"
   ]
  },
  {
   "cell_type": "code",
   "execution_count": 41,
   "metadata": {},
   "outputs": [
    {
     "data": {
      "text/html": [
       "<div>\n",
       "<style>\n",
       "    .dataframe thead tr:only-child th {\n",
       "        text-align: right;\n",
       "    }\n",
       "\n",
       "    .dataframe thead th {\n",
       "        text-align: left;\n",
       "    }\n",
       "\n",
       "    .dataframe tbody tr th {\n",
       "        vertical-align: top;\n",
       "    }\n",
       "</style>\n",
       "<table border=\"1\" class=\"dataframe\">\n",
       "  <thead>\n",
       "    <tr style=\"text-align: right;\">\n",
       "      <th></th>\n",
       "      <th>nb_rows</th>\n",
       "    </tr>\n",
       "  </thead>\n",
       "  <tbody>\n",
       "    <tr>\n",
       "      <th>NaN</th>\n",
       "      <td>82228</td>\n",
       "    </tr>\n",
       "    <tr>\n",
       "      <th>test</th>\n",
       "      <td>1205</td>\n",
       "    </tr>\n",
       "    <tr>\n",
       "      <th>train</th>\n",
       "      <td>4729</td>\n",
       "    </tr>\n",
       "    <tr>\n",
       "      <th>Dismantle</th>\n",
       "      <td>1205</td>\n",
       "    </tr>\n",
       "    <tr>\n",
       "      <th>DISM</th>\n",
       "      <td>4729</td>\n",
       "    </tr>\n",
       "  </tbody>\n",
       "</table>\n",
       "</div>"
      ],
      "text/plain": [
       "           nb_rows\n",
       "NaN          82228\n",
       "test          1205\n",
       "train         4729\n",
       "Dismantle     1205\n",
       "DISM          4729"
      ]
     },
     "execution_count": 41,
     "metadata": {},
     "output_type": "execute_result"
    }
   ],
   "source": [
    "pd.np.random.seed(42)\n",
    "available_index = parcel_dem.loc[parcel_dem[\"type\"].isnull()].index\n",
    "train_index = pd.np.random.choice(parcel_dem.loc[parcel_dem[\"type\"].isnull()].index,type_count[\"DISM\"],replace=False)\n",
    "parcel_dem.loc[train_index,\"type\"] = \"train\"\n",
    "test_index = pd.np.random.choice(parcel_dem.loc[parcel_dem[\"type\"].isnull()].index,type_count[\"Dismantle\"],replace=False)\n",
    "parcel_dem.loc[test_index,\"type\"] = \"test\"\n",
    "type_count = Counter(parcel_dem[\"type\"])\n",
    "pd.DataFrame.from_dict(type_count,orient=\"index\").rename(columns={0:\"nb_rows\"})"
   ]
  },
  {
   "cell_type": "markdown",
   "metadata": {},
   "source": [
    "We further create the *demolition* feature to mark building scheduled for demolition with 1 and building not scheduled for demolition with 0."
   ]
  },
  {
   "cell_type": "code",
   "execution_count": 42,
   "metadata": {
    "collapsed": true
   },
   "outputs": [],
   "source": [
    "def label_demolition(line):\n",
    "    if line[\"type\"] == 'DISM' or line[\"type\"] == 'Dismantle':\n",
    "        return 1\n",
    "    else:\n",
    "        return 0\n",
    "parcel_dem[\"demolition\"] = parcel_dem.apply(label_demolition,axis=1)"
   ]
  },
  {
   "cell_type": "markdown",
   "metadata": {},
   "source": [
    "We also search for missing gps coordinate, demolished build not associated to any parcel building. "
   ]
  },
  {
   "cell_type": "code",
   "execution_count": 43,
   "metadata": {
    "collapsed": true
   },
   "outputs": [],
   "source": [
    "missing_gps = pd.np.logical_or(parcel_dem[\"lat\"].isnull(),parcel_dem[\"long\"].isnull())\n",
    "parcel_dem.loc[missing_gps,\"long\"] = parcel_dem.loc[missing_gps,\"long_dem\"]\n",
    "parcel_dem.loc[missing_gps,\"lat\"] = parcel_dem.loc[missing_gps,\"lat_dem\"]"
   ]
  },
  {
   "cell_type": "markdown",
   "metadata": {},
   "source": [
    "We finally devide the dataframe into two, on training set and one testing set, using the type feature.\n",
    "We make sure to shuffle the indexes so that categories are mixed. We only keep the gps coordinates and demolition labels."
   ]
  },
  {
   "cell_type": "code",
   "execution_count": 44,
   "metadata": {
    "collapsed": true
   },
   "outputs": [],
   "source": [
    "train_index = parcel_dem.loc[pd.np.logical_or(parcel_dem[\"type\"]=='DISM',parcel_dem[\"type\"]=='train')].index\n",
    "shuffle_train= pd.np.random.choice(train_index,len(train_index),replace=False)\n",
    "test_index = parcel_dem.loc[pd.np.logical_or(parcel_dem[\"type\"]=='Dismantle',parcel_dem[\"type\"]=='test')].index\n",
    "shuffle_test= pd.np.random.choice(test_index,len(test_index),replace=False)\n",
    "training = parcel_dem.loc[shuffle_train,[\"long\",\"lat\",\"demolition\"]]\n",
    "testing = parcel_dem.loc[shuffle_test,[\"long\",\"lat\",\"demolition\"]]"
   ]
  },
  {
   "cell_type": "code",
   "execution_count": 45,
   "metadata": {},
   "outputs": [
    {
     "data": {
      "text/html": [
       "<div>\n",
       "<style>\n",
       "    .dataframe thead tr:only-child th {\n",
       "        text-align: right;\n",
       "    }\n",
       "\n",
       "    .dataframe thead th {\n",
       "        text-align: left;\n",
       "    }\n",
       "\n",
       "    .dataframe tbody tr th {\n",
       "        vertical-align: top;\n",
       "    }\n",
       "</style>\n",
       "<table border=\"1\" class=\"dataframe\">\n",
       "  <thead>\n",
       "    <tr style=\"text-align: right;\">\n",
       "      <th></th>\n",
       "      <th>long</th>\n",
       "      <th>lat</th>\n",
       "      <th>demolition</th>\n",
       "    </tr>\n",
       "  </thead>\n",
       "  <tbody>\n",
       "    <tr>\n",
       "      <th>78834</th>\n",
       "      <td>-82.978012</td>\n",
       "      <td>42.412112</td>\n",
       "      <td>0</td>\n",
       "    </tr>\n",
       "    <tr>\n",
       "      <th>59901</th>\n",
       "      <td>-82.992764</td>\n",
       "      <td>42.377932</td>\n",
       "      <td>1</td>\n",
       "    </tr>\n",
       "    <tr>\n",
       "      <th>30379</th>\n",
       "      <td>-83.286062</td>\n",
       "      <td>42.438711</td>\n",
       "      <td>0</td>\n",
       "    </tr>\n",
       "    <tr>\n",
       "      <th>78274</th>\n",
       "      <td>-83.132418</td>\n",
       "      <td>42.415267</td>\n",
       "      <td>0</td>\n",
       "    </tr>\n",
       "    <tr>\n",
       "      <th>52824</th>\n",
       "      <td>-83.147667</td>\n",
       "      <td>42.290693</td>\n",
       "      <td>1</td>\n",
       "    </tr>\n",
       "    <tr>\n",
       "      <th>55279</th>\n",
       "      <td>-83.023605</td>\n",
       "      <td>42.382146</td>\n",
       "      <td>1</td>\n",
       "    </tr>\n",
       "    <tr>\n",
       "      <th>37623</th>\n",
       "      <td>-83.193677</td>\n",
       "      <td>42.362924</td>\n",
       "      <td>0</td>\n",
       "    </tr>\n",
       "    <tr>\n",
       "      <th>4234</th>\n",
       "      <td>-82.987878</td>\n",
       "      <td>42.434166</td>\n",
       "      <td>1</td>\n",
       "    </tr>\n",
       "    <tr>\n",
       "      <th>12147</th>\n",
       "      <td>-83.162538</td>\n",
       "      <td>42.393675</td>\n",
       "      <td>0</td>\n",
       "    </tr>\n",
       "    <tr>\n",
       "      <th>69427</th>\n",
       "      <td>-83.162798</td>\n",
       "      <td>42.381663</td>\n",
       "      <td>0</td>\n",
       "    </tr>\n",
       "  </tbody>\n",
       "</table>\n",
       "</div>"
      ],
      "text/plain": [
       "            long        lat  demolition\n",
       "78834 -82.978012  42.412112           0\n",
       "59901 -82.992764  42.377932           1\n",
       "30379 -83.286062  42.438711           0\n",
       "78274 -83.132418  42.415267           0\n",
       "52824 -83.147667  42.290693           1\n",
       "55279 -83.023605  42.382146           1\n",
       "37623 -83.193677  42.362924           0\n",
       "4234  -82.987878  42.434166           1\n",
       "12147 -83.162538  42.393675           0\n",
       "69427 -83.162798  42.381663           0"
      ]
     },
     "execution_count": 45,
     "metadata": {},
     "output_type": "execute_result"
    }
   ],
   "source": [
    "training.head(10)"
   ]
  },
  {
   "cell_type": "code",
   "execution_count": 46,
   "metadata": {},
   "outputs": [
    {
     "data": {
      "text/html": [
       "<div>\n",
       "<style>\n",
       "    .dataframe thead tr:only-child th {\n",
       "        text-align: right;\n",
       "    }\n",
       "\n",
       "    .dataframe thead th {\n",
       "        text-align: left;\n",
       "    }\n",
       "\n",
       "    .dataframe tbody tr th {\n",
       "        vertical-align: top;\n",
       "    }\n",
       "</style>\n",
       "<table border=\"1\" class=\"dataframe\">\n",
       "  <thead>\n",
       "    <tr style=\"text-align: right;\">\n",
       "      <th></th>\n",
       "      <th>long</th>\n",
       "      <th>lat</th>\n",
       "      <th>demolition</th>\n",
       "    </tr>\n",
       "  </thead>\n",
       "  <tbody>\n",
       "    <tr>\n",
       "      <th>93898</th>\n",
       "      <td>-82.977761</td>\n",
       "      <td>42.372243</td>\n",
       "      <td>0</td>\n",
       "    </tr>\n",
       "    <tr>\n",
       "      <th>93960</th>\n",
       "      <td>-82.949084</td>\n",
       "      <td>42.402957</td>\n",
       "      <td>1</td>\n",
       "    </tr>\n",
       "    <tr>\n",
       "      <th>43210</th>\n",
       "      <td>-83.002287</td>\n",
       "      <td>42.377617</td>\n",
       "      <td>0</td>\n",
       "    </tr>\n",
       "    <tr>\n",
       "      <th>18056</th>\n",
       "      <td>-83.171188</td>\n",
       "      <td>42.362799</td>\n",
       "      <td>1</td>\n",
       "    </tr>\n",
       "    <tr>\n",
       "      <th>33408</th>\n",
       "      <td>-82.974838</td>\n",
       "      <td>42.441437</td>\n",
       "      <td>1</td>\n",
       "    </tr>\n",
       "    <tr>\n",
       "      <th>54161</th>\n",
       "      <td>-82.962371</td>\n",
       "      <td>42.412907</td>\n",
       "      <td>0</td>\n",
       "    </tr>\n",
       "    <tr>\n",
       "      <th>18287</th>\n",
       "      <td>-83.176043</td>\n",
       "      <td>42.398750</td>\n",
       "      <td>0</td>\n",
       "    </tr>\n",
       "    <tr>\n",
       "      <th>65840</th>\n",
       "      <td>-82.960464</td>\n",
       "      <td>42.407284</td>\n",
       "      <td>0</td>\n",
       "    </tr>\n",
       "    <tr>\n",
       "      <th>8185</th>\n",
       "      <td>-83.168551</td>\n",
       "      <td>42.374576</td>\n",
       "      <td>1</td>\n",
       "    </tr>\n",
       "    <tr>\n",
       "      <th>62983</th>\n",
       "      <td>-82.983169</td>\n",
       "      <td>42.440327</td>\n",
       "      <td>1</td>\n",
       "    </tr>\n",
       "  </tbody>\n",
       "</table>\n",
       "</div>"
      ],
      "text/plain": [
       "            long        lat  demolition\n",
       "93898 -82.977761  42.372243           0\n",
       "93960 -82.949084  42.402957           1\n",
       "43210 -83.002287  42.377617           0\n",
       "18056 -83.171188  42.362799           1\n",
       "33408 -82.974838  42.441437           1\n",
       "54161 -82.962371  42.412907           0\n",
       "18287 -83.176043  42.398750           0\n",
       "65840 -82.960464  42.407284           0\n",
       "8185  -83.168551  42.374576           1\n",
       "62983 -82.983169  42.440327           1"
      ]
     },
     "execution_count": 46,
     "metadata": {},
     "output_type": "execute_result"
    }
   ],
   "source": [
    "testing.head(10)"
   ]
  },
  {
   "cell_type": "markdown",
   "metadata": {},
   "source": [
    "We now save the data for later use."
   ]
  },
  {
   "cell_type": "code",
   "execution_count": 47,
   "metadata": {
    "collapsed": true
   },
   "outputs": [],
   "source": [
    "training.to_csv(processed_path+\"train_set.csv\",index=False)\n",
    "testing.to_csv(processed_path+\"test_set.csv\",index=False)"
   ]
  },
  {
   "cell_type": "markdown",
   "metadata": {},
   "source": [
    "## 5 Conclusion\n",
    "\n",
    "In this notebook we described how we apply data cleaning to the roiginal files provided for this Capstone project. \n",
    "We benefit from [Detroit API](https://data.detroitmi.gov/resource/snut-x2sy) to correct for inaccurate gps coordinates and removed bad addresses. We defined a area to emcompass the city in order to limit the rows to actual location in Detroit. We also applied grid method to define a building instance a 60m$\\times$60m square ($\\sim 200\\times200$ feet).\n",
    "We build two labeled datasets, a training set and a test set for machine learning purpose. For both these sets, additionnal feature are to be created using the processed set we generated in this notebook. "
   ]
  }
 ],
 "metadata": {
  "kernelspec": {
   "display_name": "Python 2",
   "language": "python",
   "name": "python2"
  },
  "language_info": {
   "codemirror_mode": {
    "name": "ipython",
    "version": 2
   },
   "file_extension": ".py",
   "mimetype": "text/x-python",
   "name": "python",
   "nbconvert_exporter": "python",
   "pygments_lexer": "ipython2",
   "version": "2.7.14"
  }
 },
 "nbformat": 4,
 "nbformat_minor": 2
}
